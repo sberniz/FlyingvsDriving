{
  "nbformat": 4,
  "nbformat_minor": 0,
  "metadata": {
    "colab": {
      "name": "Plane_vs_Driving.ipynb",
      "provenance": [],
      "collapsed_sections": [],
      "authorship_tag": "ABX9TyOsYXc3khEY8GkTsffhMTNk",
      "include_colab_link": true
    },
    "kernelspec": {
      "name": "python3",
      "display_name": "Python 3"
    }
  },
  "cells": [
    {
      "cell_type": "markdown",
      "metadata": {
        "id": "view-in-github",
        "colab_type": "text"
      },
      "source": [
        "<a href=\"https://colab.research.google.com/github/sberniz/FlyingvsDriving/blob/master/Plane_vs_Driving.ipynb\" target=\"_parent\"><img src=\"https://colab.research.google.com/assets/colab-badge.svg\" alt=\"Open In Colab\"/></a>"
      ]
    },
    {
      "cell_type": "code",
      "metadata": {
        "id": "Sw8NUm2JSd1D",
        "colab_type": "code",
        "colab": {}
      },
      "source": [
        "#Library Imports \n",
        "import pandas as pd\n",
        "import numpy as np\n",
        "import seaborn as sns\n",
        "from scipy import stats\n",
        "import matplotlib.pyplot as plt"
      ],
      "execution_count": 2,
      "outputs": []
    },
    {
      "cell_type": "code",
      "metadata": {
        "id": "ciNot7iH2d2o",
        "colab_type": "code",
        "colab": {
          "base_uri": "https://localhost:8080/",
          "height": 484
        },
        "outputId": "5496ad93-8b2f-488f-f4d1-d8ca7215c32e"
      },
      "source": [
        "#load plane crash data worldwide\n",
        "plane_crash = pd.read_csv('https://raw.githubusercontent.com/sberniz/FlyingvsDriving/master/data/plane_crash_2019.csv')\n",
        "plane_crash.head()"
      ],
      "execution_count": 42,
      "outputs": [
        {
          "output_type": "execute_result",
          "data": {
            "text/html": [
              "<div>\n",
              "<style scoped>\n",
              "    .dataframe tbody tr th:only-of-type {\n",
              "        vertical-align: middle;\n",
              "    }\n",
              "\n",
              "    .dataframe tbody tr th {\n",
              "        vertical-align: top;\n",
              "    }\n",
              "\n",
              "    .dataframe thead th {\n",
              "        text-align: right;\n",
              "    }\n",
              "</style>\n",
              "<table border=\"1\" class=\"dataframe\">\n",
              "  <thead>\n",
              "    <tr style=\"text-align: right;\">\n",
              "      <th></th>\n",
              "      <th>Date</th>\n",
              "      <th>Time</th>\n",
              "      <th>Location</th>\n",
              "      <th>Operator</th>\n",
              "      <th>Flight #</th>\n",
              "      <th>Route</th>\n",
              "      <th>AC Type</th>\n",
              "      <th>Registration</th>\n",
              "      <th>cn/ln</th>\n",
              "      <th>Aboard</th>\n",
              "      <th>Aboard Passangers</th>\n",
              "      <th>Aboard Crew</th>\n",
              "      <th>Fatalities</th>\n",
              "      <th>Fatalities Passangers</th>\n",
              "      <th>Fatalities Crew</th>\n",
              "      <th>Ground</th>\n",
              "      <th>Summary</th>\n",
              "    </tr>\n",
              "  </thead>\n",
              "  <tbody>\n",
              "    <tr>\n",
              "      <th>0</th>\n",
              "      <td>09/17/1908</td>\n",
              "      <td>17:18</td>\n",
              "      <td>Fort Myer, Virginia</td>\n",
              "      <td>Military - U.S. Army</td>\n",
              "      <td>NaN</td>\n",
              "      <td>Demonstration</td>\n",
              "      <td>Wright Flyer III</td>\n",
              "      <td>NaN</td>\n",
              "      <td>1</td>\n",
              "      <td>2.0</td>\n",
              "      <td>1.0</td>\n",
              "      <td>1.0</td>\n",
              "      <td>1.0</td>\n",
              "      <td>1.0</td>\n",
              "      <td>0.0</td>\n",
              "      <td>0.0</td>\n",
              "      <td>During a demonstration flight, a U.S. Army fly...</td>\n",
              "    </tr>\n",
              "    <tr>\n",
              "      <th>1</th>\n",
              "      <td>09/07/1909</td>\n",
              "      <td>NaN</td>\n",
              "      <td>Juvisy-sur-Orge, France</td>\n",
              "      <td>NaN</td>\n",
              "      <td>NaN</td>\n",
              "      <td>Air show</td>\n",
              "      <td>Wright Byplane</td>\n",
              "      <td>SC1</td>\n",
              "      <td>NaN</td>\n",
              "      <td>1.0</td>\n",
              "      <td>0.0</td>\n",
              "      <td>1.0</td>\n",
              "      <td>1.0</td>\n",
              "      <td>0.0</td>\n",
              "      <td>0.0</td>\n",
              "      <td>0.0</td>\n",
              "      <td>Eugene Lefebvre was the first pilot to ever be...</td>\n",
              "    </tr>\n",
              "    <tr>\n",
              "      <th>2</th>\n",
              "      <td>07/12/1912</td>\n",
              "      <td>06:30</td>\n",
              "      <td>Atlantic City, New Jersey</td>\n",
              "      <td>Military - U.S. Navy</td>\n",
              "      <td>NaN</td>\n",
              "      <td>Test flight</td>\n",
              "      <td>Dirigible</td>\n",
              "      <td>NaN</td>\n",
              "      <td>NaN</td>\n",
              "      <td>5.0</td>\n",
              "      <td>0.0</td>\n",
              "      <td>5.0</td>\n",
              "      <td>5.0</td>\n",
              "      <td>0.0</td>\n",
              "      <td>5.0</td>\n",
              "      <td>0.0</td>\n",
              "      <td>First U.S. dirigible Akron exploded just offsh...</td>\n",
              "    </tr>\n",
              "    <tr>\n",
              "      <th>3</th>\n",
              "      <td>08/06/1913</td>\n",
              "      <td>NaN</td>\n",
              "      <td>Victoria, British Columbia, Canada</td>\n",
              "      <td>Private</td>\n",
              "      <td>NaN</td>\n",
              "      <td>NaN</td>\n",
              "      <td>Curtiss seaplane</td>\n",
              "      <td>NaN</td>\n",
              "      <td>NaN</td>\n",
              "      <td>1.0</td>\n",
              "      <td>0.0</td>\n",
              "      <td>1.0</td>\n",
              "      <td>1.0</td>\n",
              "      <td>0.0</td>\n",
              "      <td>1.0</td>\n",
              "      <td>0.0</td>\n",
              "      <td>The first fatal airplane accident in Canada oc...</td>\n",
              "    </tr>\n",
              "    <tr>\n",
              "      <th>4</th>\n",
              "      <td>09/09/1913</td>\n",
              "      <td>18:30</td>\n",
              "      <td>Over the North Sea</td>\n",
              "      <td>Military - German Navy</td>\n",
              "      <td>NaN</td>\n",
              "      <td>NaN</td>\n",
              "      <td>Zeppelin L-1 (airship)</td>\n",
              "      <td>NaN</td>\n",
              "      <td>NaN</td>\n",
              "      <td>20.0</td>\n",
              "      <td>NaN</td>\n",
              "      <td>NaN</td>\n",
              "      <td>14.0</td>\n",
              "      <td>NaN</td>\n",
              "      <td>NaN</td>\n",
              "      <td>0.0</td>\n",
              "      <td>The airship flew into a thunderstorm and encou...</td>\n",
              "    </tr>\n",
              "  </tbody>\n",
              "</table>\n",
              "</div>"
            ],
            "text/plain": [
              "         Date   Time  ... Ground                                            Summary\n",
              "0  09/17/1908  17:18  ...    0.0  During a demonstration flight, a U.S. Army fly...\n",
              "1  09/07/1909    NaN  ...    0.0  Eugene Lefebvre was the first pilot to ever be...\n",
              "2  07/12/1912  06:30  ...    0.0  First U.S. dirigible Akron exploded just offsh...\n",
              "3  08/06/1913    NaN  ...    0.0  The first fatal airplane accident in Canada oc...\n",
              "4  09/09/1913  18:30  ...    0.0  The airship flew into a thunderstorm and encou...\n",
              "\n",
              "[5 rows x 17 columns]"
            ]
          },
          "metadata": {
            "tags": []
          },
          "execution_count": 42
        }
      ]
    },
    {
      "cell_type": "code",
      "metadata": {
        "id": "X4Gqu5hU3_34",
        "colab_type": "code",
        "colab": {
          "base_uri": "https://localhost:8080/",
          "height": 484
        },
        "outputId": "a51dd287-7997-4ab4-d026-f9b9fcbcc570"
      },
      "source": [
        "plane_crash['Date'] = pd.to_datetime(plane_crash['Date'],infer_datetime_format=True)\n",
        "plane_crash.head()"
      ],
      "execution_count": 43,
      "outputs": [
        {
          "output_type": "execute_result",
          "data": {
            "text/html": [
              "<div>\n",
              "<style scoped>\n",
              "    .dataframe tbody tr th:only-of-type {\n",
              "        vertical-align: middle;\n",
              "    }\n",
              "\n",
              "    .dataframe tbody tr th {\n",
              "        vertical-align: top;\n",
              "    }\n",
              "\n",
              "    .dataframe thead th {\n",
              "        text-align: right;\n",
              "    }\n",
              "</style>\n",
              "<table border=\"1\" class=\"dataframe\">\n",
              "  <thead>\n",
              "    <tr style=\"text-align: right;\">\n",
              "      <th></th>\n",
              "      <th>Date</th>\n",
              "      <th>Time</th>\n",
              "      <th>Location</th>\n",
              "      <th>Operator</th>\n",
              "      <th>Flight #</th>\n",
              "      <th>Route</th>\n",
              "      <th>AC Type</th>\n",
              "      <th>Registration</th>\n",
              "      <th>cn/ln</th>\n",
              "      <th>Aboard</th>\n",
              "      <th>Aboard Passangers</th>\n",
              "      <th>Aboard Crew</th>\n",
              "      <th>Fatalities</th>\n",
              "      <th>Fatalities Passangers</th>\n",
              "      <th>Fatalities Crew</th>\n",
              "      <th>Ground</th>\n",
              "      <th>Summary</th>\n",
              "    </tr>\n",
              "  </thead>\n",
              "  <tbody>\n",
              "    <tr>\n",
              "      <th>0</th>\n",
              "      <td>1908-09-17</td>\n",
              "      <td>17:18</td>\n",
              "      <td>Fort Myer, Virginia</td>\n",
              "      <td>Military - U.S. Army</td>\n",
              "      <td>NaN</td>\n",
              "      <td>Demonstration</td>\n",
              "      <td>Wright Flyer III</td>\n",
              "      <td>NaN</td>\n",
              "      <td>1</td>\n",
              "      <td>2.0</td>\n",
              "      <td>1.0</td>\n",
              "      <td>1.0</td>\n",
              "      <td>1.0</td>\n",
              "      <td>1.0</td>\n",
              "      <td>0.0</td>\n",
              "      <td>0.0</td>\n",
              "      <td>During a demonstration flight, a U.S. Army fly...</td>\n",
              "    </tr>\n",
              "    <tr>\n",
              "      <th>1</th>\n",
              "      <td>1909-09-07</td>\n",
              "      <td>NaN</td>\n",
              "      <td>Juvisy-sur-Orge, France</td>\n",
              "      <td>NaN</td>\n",
              "      <td>NaN</td>\n",
              "      <td>Air show</td>\n",
              "      <td>Wright Byplane</td>\n",
              "      <td>SC1</td>\n",
              "      <td>NaN</td>\n",
              "      <td>1.0</td>\n",
              "      <td>0.0</td>\n",
              "      <td>1.0</td>\n",
              "      <td>1.0</td>\n",
              "      <td>0.0</td>\n",
              "      <td>0.0</td>\n",
              "      <td>0.0</td>\n",
              "      <td>Eugene Lefebvre was the first pilot to ever be...</td>\n",
              "    </tr>\n",
              "    <tr>\n",
              "      <th>2</th>\n",
              "      <td>1912-07-12</td>\n",
              "      <td>06:30</td>\n",
              "      <td>Atlantic City, New Jersey</td>\n",
              "      <td>Military - U.S. Navy</td>\n",
              "      <td>NaN</td>\n",
              "      <td>Test flight</td>\n",
              "      <td>Dirigible</td>\n",
              "      <td>NaN</td>\n",
              "      <td>NaN</td>\n",
              "      <td>5.0</td>\n",
              "      <td>0.0</td>\n",
              "      <td>5.0</td>\n",
              "      <td>5.0</td>\n",
              "      <td>0.0</td>\n",
              "      <td>5.0</td>\n",
              "      <td>0.0</td>\n",
              "      <td>First U.S. dirigible Akron exploded just offsh...</td>\n",
              "    </tr>\n",
              "    <tr>\n",
              "      <th>3</th>\n",
              "      <td>1913-08-06</td>\n",
              "      <td>NaN</td>\n",
              "      <td>Victoria, British Columbia, Canada</td>\n",
              "      <td>Private</td>\n",
              "      <td>NaN</td>\n",
              "      <td>NaN</td>\n",
              "      <td>Curtiss seaplane</td>\n",
              "      <td>NaN</td>\n",
              "      <td>NaN</td>\n",
              "      <td>1.0</td>\n",
              "      <td>0.0</td>\n",
              "      <td>1.0</td>\n",
              "      <td>1.0</td>\n",
              "      <td>0.0</td>\n",
              "      <td>1.0</td>\n",
              "      <td>0.0</td>\n",
              "      <td>The first fatal airplane accident in Canada oc...</td>\n",
              "    </tr>\n",
              "    <tr>\n",
              "      <th>4</th>\n",
              "      <td>1913-09-09</td>\n",
              "      <td>18:30</td>\n",
              "      <td>Over the North Sea</td>\n",
              "      <td>Military - German Navy</td>\n",
              "      <td>NaN</td>\n",
              "      <td>NaN</td>\n",
              "      <td>Zeppelin L-1 (airship)</td>\n",
              "      <td>NaN</td>\n",
              "      <td>NaN</td>\n",
              "      <td>20.0</td>\n",
              "      <td>NaN</td>\n",
              "      <td>NaN</td>\n",
              "      <td>14.0</td>\n",
              "      <td>NaN</td>\n",
              "      <td>NaN</td>\n",
              "      <td>0.0</td>\n",
              "      <td>The airship flew into a thunderstorm and encou...</td>\n",
              "    </tr>\n",
              "  </tbody>\n",
              "</table>\n",
              "</div>"
            ],
            "text/plain": [
              "        Date   Time  ... Ground                                            Summary\n",
              "0 1908-09-17  17:18  ...    0.0  During a demonstration flight, a U.S. Army fly...\n",
              "1 1909-09-07    NaN  ...    0.0  Eugene Lefebvre was the first pilot to ever be...\n",
              "2 1912-07-12  06:30  ...    0.0  First U.S. dirigible Akron exploded just offsh...\n",
              "3 1913-08-06    NaN  ...    0.0  The first fatal airplane accident in Canada oc...\n",
              "4 1913-09-09  18:30  ...    0.0  The airship flew into a thunderstorm and encou...\n",
              "\n",
              "[5 rows x 17 columns]"
            ]
          },
          "metadata": {
            "tags": []
          },
          "execution_count": 43
        }
      ]
    },
    {
      "cell_type": "code",
      "metadata": {
        "id": "DjW_4w5l7Hp3",
        "colab_type": "code",
        "colab": {
          "base_uri": "https://localhost:8080/",
          "height": 484
        },
        "outputId": "83c48010-d117-40e4-e973-90ecc2c36555"
      },
      "source": [
        "plane_crash['year'] = plane_crash['Date'].dt.year\n",
        "plane_crash.head()"
      ],
      "execution_count": 44,
      "outputs": [
        {
          "output_type": "execute_result",
          "data": {
            "text/html": [
              "<div>\n",
              "<style scoped>\n",
              "    .dataframe tbody tr th:only-of-type {\n",
              "        vertical-align: middle;\n",
              "    }\n",
              "\n",
              "    .dataframe tbody tr th {\n",
              "        vertical-align: top;\n",
              "    }\n",
              "\n",
              "    .dataframe thead th {\n",
              "        text-align: right;\n",
              "    }\n",
              "</style>\n",
              "<table border=\"1\" class=\"dataframe\">\n",
              "  <thead>\n",
              "    <tr style=\"text-align: right;\">\n",
              "      <th></th>\n",
              "      <th>Date</th>\n",
              "      <th>Time</th>\n",
              "      <th>Location</th>\n",
              "      <th>Operator</th>\n",
              "      <th>Flight #</th>\n",
              "      <th>Route</th>\n",
              "      <th>AC Type</th>\n",
              "      <th>Registration</th>\n",
              "      <th>cn/ln</th>\n",
              "      <th>Aboard</th>\n",
              "      <th>Aboard Passangers</th>\n",
              "      <th>Aboard Crew</th>\n",
              "      <th>Fatalities</th>\n",
              "      <th>Fatalities Passangers</th>\n",
              "      <th>Fatalities Crew</th>\n",
              "      <th>Ground</th>\n",
              "      <th>Summary</th>\n",
              "      <th>year</th>\n",
              "    </tr>\n",
              "  </thead>\n",
              "  <tbody>\n",
              "    <tr>\n",
              "      <th>0</th>\n",
              "      <td>1908-09-17</td>\n",
              "      <td>17:18</td>\n",
              "      <td>Fort Myer, Virginia</td>\n",
              "      <td>Military - U.S. Army</td>\n",
              "      <td>NaN</td>\n",
              "      <td>Demonstration</td>\n",
              "      <td>Wright Flyer III</td>\n",
              "      <td>NaN</td>\n",
              "      <td>1</td>\n",
              "      <td>2.0</td>\n",
              "      <td>1.0</td>\n",
              "      <td>1.0</td>\n",
              "      <td>1.0</td>\n",
              "      <td>1.0</td>\n",
              "      <td>0.0</td>\n",
              "      <td>0.0</td>\n",
              "      <td>During a demonstration flight, a U.S. Army fly...</td>\n",
              "      <td>1908</td>\n",
              "    </tr>\n",
              "    <tr>\n",
              "      <th>1</th>\n",
              "      <td>1909-09-07</td>\n",
              "      <td>NaN</td>\n",
              "      <td>Juvisy-sur-Orge, France</td>\n",
              "      <td>NaN</td>\n",
              "      <td>NaN</td>\n",
              "      <td>Air show</td>\n",
              "      <td>Wright Byplane</td>\n",
              "      <td>SC1</td>\n",
              "      <td>NaN</td>\n",
              "      <td>1.0</td>\n",
              "      <td>0.0</td>\n",
              "      <td>1.0</td>\n",
              "      <td>1.0</td>\n",
              "      <td>0.0</td>\n",
              "      <td>0.0</td>\n",
              "      <td>0.0</td>\n",
              "      <td>Eugene Lefebvre was the first pilot to ever be...</td>\n",
              "      <td>1909</td>\n",
              "    </tr>\n",
              "    <tr>\n",
              "      <th>2</th>\n",
              "      <td>1912-07-12</td>\n",
              "      <td>06:30</td>\n",
              "      <td>Atlantic City, New Jersey</td>\n",
              "      <td>Military - U.S. Navy</td>\n",
              "      <td>NaN</td>\n",
              "      <td>Test flight</td>\n",
              "      <td>Dirigible</td>\n",
              "      <td>NaN</td>\n",
              "      <td>NaN</td>\n",
              "      <td>5.0</td>\n",
              "      <td>0.0</td>\n",
              "      <td>5.0</td>\n",
              "      <td>5.0</td>\n",
              "      <td>0.0</td>\n",
              "      <td>5.0</td>\n",
              "      <td>0.0</td>\n",
              "      <td>First U.S. dirigible Akron exploded just offsh...</td>\n",
              "      <td>1912</td>\n",
              "    </tr>\n",
              "    <tr>\n",
              "      <th>3</th>\n",
              "      <td>1913-08-06</td>\n",
              "      <td>NaN</td>\n",
              "      <td>Victoria, British Columbia, Canada</td>\n",
              "      <td>Private</td>\n",
              "      <td>NaN</td>\n",
              "      <td>NaN</td>\n",
              "      <td>Curtiss seaplane</td>\n",
              "      <td>NaN</td>\n",
              "      <td>NaN</td>\n",
              "      <td>1.0</td>\n",
              "      <td>0.0</td>\n",
              "      <td>1.0</td>\n",
              "      <td>1.0</td>\n",
              "      <td>0.0</td>\n",
              "      <td>1.0</td>\n",
              "      <td>0.0</td>\n",
              "      <td>The first fatal airplane accident in Canada oc...</td>\n",
              "      <td>1913</td>\n",
              "    </tr>\n",
              "    <tr>\n",
              "      <th>4</th>\n",
              "      <td>1913-09-09</td>\n",
              "      <td>18:30</td>\n",
              "      <td>Over the North Sea</td>\n",
              "      <td>Military - German Navy</td>\n",
              "      <td>NaN</td>\n",
              "      <td>NaN</td>\n",
              "      <td>Zeppelin L-1 (airship)</td>\n",
              "      <td>NaN</td>\n",
              "      <td>NaN</td>\n",
              "      <td>20.0</td>\n",
              "      <td>NaN</td>\n",
              "      <td>NaN</td>\n",
              "      <td>14.0</td>\n",
              "      <td>NaN</td>\n",
              "      <td>NaN</td>\n",
              "      <td>0.0</td>\n",
              "      <td>The airship flew into a thunderstorm and encou...</td>\n",
              "      <td>1913</td>\n",
              "    </tr>\n",
              "  </tbody>\n",
              "</table>\n",
              "</div>"
            ],
            "text/plain": [
              "        Date   Time  ...                                            Summary  year\n",
              "0 1908-09-17  17:18  ...  During a demonstration flight, a U.S. Army fly...  1908\n",
              "1 1909-09-07    NaN  ...  Eugene Lefebvre was the first pilot to ever be...  1909\n",
              "2 1912-07-12  06:30  ...  First U.S. dirigible Akron exploded just offsh...  1912\n",
              "3 1913-08-06    NaN  ...  The first fatal airplane accident in Canada oc...  1913\n",
              "4 1913-09-09  18:30  ...  The airship flew into a thunderstorm and encou...  1913\n",
              "\n",
              "[5 rows x 18 columns]"
            ]
          },
          "metadata": {
            "tags": []
          },
          "execution_count": 44
        }
      ]
    },
    {
      "cell_type": "code",
      "metadata": {
        "id": "rfF3qHnc7R58",
        "colab_type": "code",
        "colab": {
          "base_uri": "https://localhost:8080/",
          "height": 569
        },
        "outputId": "fd51da0e-1051-4e27-aa43-53fe1f5e9cf7"
      },
      "source": [
        "condition = (plane_crash['year'] >= 1970) &  (plane_crash['year'] <= 2017)\n",
        "plane_crash_1970_2017 = plane_crash[condition]\n",
        "print(plane_crash_1970_2017.shape)\n",
        "plane_crash_1970_2017.head()\n"
      ],
      "execution_count": 45,
      "outputs": [
        {
          "output_type": "stream",
          "text": [
            "(2507, 18)\n"
          ],
          "name": "stdout"
        },
        {
          "output_type": "execute_result",
          "data": {
            "text/html": [
              "<div>\n",
              "<style scoped>\n",
              "    .dataframe tbody tr th:only-of-type {\n",
              "        vertical-align: middle;\n",
              "    }\n",
              "\n",
              "    .dataframe tbody tr th {\n",
              "        vertical-align: top;\n",
              "    }\n",
              "\n",
              "    .dataframe thead th {\n",
              "        text-align: right;\n",
              "    }\n",
              "</style>\n",
              "<table border=\"1\" class=\"dataframe\">\n",
              "  <thead>\n",
              "    <tr style=\"text-align: right;\">\n",
              "      <th></th>\n",
              "      <th>Date</th>\n",
              "      <th>Time</th>\n",
              "      <th>Location</th>\n",
              "      <th>Operator</th>\n",
              "      <th>Flight #</th>\n",
              "      <th>Route</th>\n",
              "      <th>AC Type</th>\n",
              "      <th>Registration</th>\n",
              "      <th>cn/ln</th>\n",
              "      <th>Aboard</th>\n",
              "      <th>Aboard Passangers</th>\n",
              "      <th>Aboard Crew</th>\n",
              "      <th>Fatalities</th>\n",
              "      <th>Fatalities Passangers</th>\n",
              "      <th>Fatalities Crew</th>\n",
              "      <th>Ground</th>\n",
              "      <th>Summary</th>\n",
              "      <th>year</th>\n",
              "    </tr>\n",
              "  </thead>\n",
              "  <tbody>\n",
              "    <tr>\n",
              "      <th>2435</th>\n",
              "      <td>1970-01-05</td>\n",
              "      <td>22:25</td>\n",
              "      <td>Stockholm, Sweden</td>\n",
              "      <td>Spantax</td>\n",
              "      <td>NaN</td>\n",
              "      <td>Stockholm - Zurich</td>\n",
              "      <td>Convair CV-990-30A-5</td>\n",
              "      <td>EC-BNM</td>\n",
              "      <td>30-10-32</td>\n",
              "      <td>10.0</td>\n",
              "      <td>7.0</td>\n",
              "      <td>3.0</td>\n",
              "      <td>5.0</td>\n",
              "      <td>5.0</td>\n",
              "      <td>0.0</td>\n",
              "      <td>0.0</td>\n",
              "      <td>The plane developed trouble in the No. 4 engin...</td>\n",
              "      <td>1970</td>\n",
              "    </tr>\n",
              "    <tr>\n",
              "      <th>2436</th>\n",
              "      <td>1970-01-12</td>\n",
              "      <td>12:00</td>\n",
              "      <td>Near Villia Greece</td>\n",
              "      <td>Military - Royal Hellenic Air Force</td>\n",
              "      <td>NaN</td>\n",
              "      <td>Military exercise</td>\n",
              "      <td>Douglas C-47</td>\n",
              "      <td>NaN</td>\n",
              "      <td>NaN</td>\n",
              "      <td>27.0</td>\n",
              "      <td>22.0</td>\n",
              "      <td>5.0</td>\n",
              "      <td>23.0</td>\n",
              "      <td>19.0</td>\n",
              "      <td>4.0</td>\n",
              "      <td>0.0</td>\n",
              "      <td>The aircraft, carrying paratroopers, crashed i...</td>\n",
              "      <td>1970</td>\n",
              "    </tr>\n",
              "    <tr>\n",
              "      <th>2437</th>\n",
              "      <td>1970-01-13</td>\n",
              "      <td>06:00</td>\n",
              "      <td>Faleolo, Western Samoa</td>\n",
              "      <td>Polynesian Airlines</td>\n",
              "      <td>208B</td>\n",
              "      <td>Apia, Western Samoa - Pago Pago, American Samoa</td>\n",
              "      <td>Douglas DC-3</td>\n",
              "      <td>5W-FAC</td>\n",
              "      <td>16964</td>\n",
              "      <td>32.0</td>\n",
              "      <td>29.0</td>\n",
              "      <td>3.0</td>\n",
              "      <td>32.0</td>\n",
              "      <td>29.0</td>\n",
              "      <td>3.0</td>\n",
              "      <td>0.0</td>\n",
              "      <td>Crashed into a lagoon 400 yards past the end o...</td>\n",
              "      <td>1970</td>\n",
              "    </tr>\n",
              "    <tr>\n",
              "      <th>2438</th>\n",
              "      <td>1970-01-14</td>\n",
              "      <td>NaN</td>\n",
              "      <td>Mt. Pumacona, Peru</td>\n",
              "      <td>Faucett</td>\n",
              "      <td>NaN</td>\n",
              "      <td>Trujillo - Juanjui</td>\n",
              "      <td>Douglas DC-4</td>\n",
              "      <td>OB-R-776</td>\n",
              "      <td>10591</td>\n",
              "      <td>28.0</td>\n",
              "      <td>24.0</td>\n",
              "      <td>4.0</td>\n",
              "      <td>28.0</td>\n",
              "      <td>24.0</td>\n",
              "      <td>4.0</td>\n",
              "      <td>0.0</td>\n",
              "      <td>Flew into a 10,500 ft. mountain. The mental st...</td>\n",
              "      <td>1970</td>\n",
              "    </tr>\n",
              "    <tr>\n",
              "      <th>2439</th>\n",
              "      <td>1970-01-25</td>\n",
              "      <td>19:13</td>\n",
              "      <td>Near Delhi, India</td>\n",
              "      <td>Royal Nepal Airlines</td>\n",
              "      <td>NaN</td>\n",
              "      <td>Kathmandu - Delhi</td>\n",
              "      <td>Fokker F-27 Friendship 200</td>\n",
              "      <td>9N-AAR</td>\n",
              "      <td>1965</td>\n",
              "      <td>23.0</td>\n",
              "      <td>18.0</td>\n",
              "      <td>5.0</td>\n",
              "      <td>1.0</td>\n",
              "      <td>0.0</td>\n",
              "      <td>1.0</td>\n",
              "      <td>0.0</td>\n",
              "      <td>The aircraft crashed short of the runway after...</td>\n",
              "      <td>1970</td>\n",
              "    </tr>\n",
              "  </tbody>\n",
              "</table>\n",
              "</div>"
            ],
            "text/plain": [
              "           Date   Time  ...                                            Summary  year\n",
              "2435 1970-01-05  22:25  ...  The plane developed trouble in the No. 4 engin...  1970\n",
              "2436 1970-01-12  12:00  ...  The aircraft, carrying paratroopers, crashed i...  1970\n",
              "2437 1970-01-13  06:00  ...  Crashed into a lagoon 400 yards past the end o...  1970\n",
              "2438 1970-01-14    NaN  ...  Flew into a 10,500 ft. mountain. The mental st...  1970\n",
              "2439 1970-01-25  19:13  ...  The aircraft crashed short of the runway after...  1970\n",
              "\n",
              "[5 rows x 18 columns]"
            ]
          },
          "metadata": {
            "tags": []
          },
          "execution_count": 45
        }
      ]
    },
    {
      "cell_type": "code",
      "metadata": {
        "id": "lFuohCybHYnx",
        "colab_type": "code",
        "colab": {
          "base_uri": "https://localhost:8080/",
          "height": 228
        },
        "outputId": "0d1c973a-26ce-4e47-fa87-c8d3894755cc"
      },
      "source": [
        "plane_crash_1970_2017['Operator'].value_counts().sort_values()"
      ],
      "execution_count": 56,
      "outputs": [
        {
          "output_type": "execute_result",
          "data": {
            "text/plain": [
              "Ruiban & Duran Compania Aérea      1\n",
              "Sarit Airlines                     1\n",
              "Permaviatrans                      1\n",
              "Itek Air                           1\n",
              "Air Caraibes                       1\n",
              "                                ... \n",
              "Military - U.S. Army              15\n",
              "Merpati Nusantara Airlines        18\n",
              "Private                           21\n",
              "Military - U.S. Air Force         54\n",
              "Aeroflot                         142\n",
              "Name: Operator, Length: 1547, dtype: int64"
            ]
          },
          "metadata": {
            "tags": []
          },
          "execution_count": 56
        }
      ]
    },
    {
      "cell_type": "code",
      "metadata": {
        "id": "OaakU4kxGVCw",
        "colab_type": "code",
        "colab": {
          "base_uri": "https://localhost:8080/",
          "height": 686
        },
        "outputId": "31cc84c7-dc34-48bd-c2e6-9f705211a265"
      },
      "source": [
        "plane_crash_1970_2017 = plane_crash_1970_2017[((plane_crash_1970_2017['Operator'].str.contains('Military',na=False,regex=True)) == False) & ((plane_crash_1970_2017['Route'].str.contains('Airshow',na=False,regex=True)) == False)]\n",
        "print(plane_crash_1970_2017.shape)\n",
        "plane_crash_1970_2017.head()"
      ],
      "execution_count": 95,
      "outputs": [
        {
          "output_type": "stream",
          "text": [
            "(2125, 19)\n"
          ],
          "name": "stdout"
        },
        {
          "output_type": "execute_result",
          "data": {
            "text/html": [
              "<div>\n",
              "<style scoped>\n",
              "    .dataframe tbody tr th:only-of-type {\n",
              "        vertical-align: middle;\n",
              "    }\n",
              "\n",
              "    .dataframe tbody tr th {\n",
              "        vertical-align: top;\n",
              "    }\n",
              "\n",
              "    .dataframe thead th {\n",
              "        text-align: right;\n",
              "    }\n",
              "</style>\n",
              "<table border=\"1\" class=\"dataframe\">\n",
              "  <thead>\n",
              "    <tr style=\"text-align: right;\">\n",
              "      <th></th>\n",
              "      <th>Date</th>\n",
              "      <th>Time</th>\n",
              "      <th>Location</th>\n",
              "      <th>Operator</th>\n",
              "      <th>Flight #</th>\n",
              "      <th>Route</th>\n",
              "      <th>AC Type</th>\n",
              "      <th>Registration</th>\n",
              "      <th>cn/ln</th>\n",
              "      <th>Aboard</th>\n",
              "      <th>Aboard Passangers</th>\n",
              "      <th>Aboard Crew</th>\n",
              "      <th>Fatalities</th>\n",
              "      <th>Fatalities Passangers</th>\n",
              "      <th>Fatalities Crew</th>\n",
              "      <th>Ground</th>\n",
              "      <th>Summary</th>\n",
              "      <th>year</th>\n",
              "      <th>percentage fatalities</th>\n",
              "    </tr>\n",
              "  </thead>\n",
              "  <tbody>\n",
              "    <tr>\n",
              "      <th>2435</th>\n",
              "      <td>1970-01-05</td>\n",
              "      <td>22:25</td>\n",
              "      <td>Stockholm, Sweden</td>\n",
              "      <td>Spantax</td>\n",
              "      <td>NaN</td>\n",
              "      <td>Stockholm - Zurich</td>\n",
              "      <td>Convair CV-990-30A-5</td>\n",
              "      <td>EC-BNM</td>\n",
              "      <td>30-10-32</td>\n",
              "      <td>10.0</td>\n",
              "      <td>7.0</td>\n",
              "      <td>3.0</td>\n",
              "      <td>5.0</td>\n",
              "      <td>5.0</td>\n",
              "      <td>0.0</td>\n",
              "      <td>0.0</td>\n",
              "      <td>The plane developed trouble in the No. 4 engin...</td>\n",
              "      <td>1970</td>\n",
              "      <td>50.000000</td>\n",
              "    </tr>\n",
              "    <tr>\n",
              "      <th>2437</th>\n",
              "      <td>1970-01-13</td>\n",
              "      <td>06:00</td>\n",
              "      <td>Faleolo, Western Samoa</td>\n",
              "      <td>Polynesian Airlines</td>\n",
              "      <td>208B</td>\n",
              "      <td>Apia, Western Samoa - Pago Pago, American Samoa</td>\n",
              "      <td>Douglas DC-3</td>\n",
              "      <td>5W-FAC</td>\n",
              "      <td>16964</td>\n",
              "      <td>32.0</td>\n",
              "      <td>29.0</td>\n",
              "      <td>3.0</td>\n",
              "      <td>32.0</td>\n",
              "      <td>29.0</td>\n",
              "      <td>3.0</td>\n",
              "      <td>0.0</td>\n",
              "      <td>Crashed into a lagoon 400 yards past the end o...</td>\n",
              "      <td>1970</td>\n",
              "      <td>100.000000</td>\n",
              "    </tr>\n",
              "    <tr>\n",
              "      <th>2438</th>\n",
              "      <td>1970-01-14</td>\n",
              "      <td>NaN</td>\n",
              "      <td>Mt. Pumacona, Peru</td>\n",
              "      <td>Faucett</td>\n",
              "      <td>NaN</td>\n",
              "      <td>Trujillo - Juanjui</td>\n",
              "      <td>Douglas DC-4</td>\n",
              "      <td>OB-R-776</td>\n",
              "      <td>10591</td>\n",
              "      <td>28.0</td>\n",
              "      <td>24.0</td>\n",
              "      <td>4.0</td>\n",
              "      <td>28.0</td>\n",
              "      <td>24.0</td>\n",
              "      <td>4.0</td>\n",
              "      <td>0.0</td>\n",
              "      <td>Flew into a 10,500 ft. mountain. The mental st...</td>\n",
              "      <td>1970</td>\n",
              "      <td>100.000000</td>\n",
              "    </tr>\n",
              "    <tr>\n",
              "      <th>2439</th>\n",
              "      <td>1970-01-25</td>\n",
              "      <td>19:13</td>\n",
              "      <td>Near Delhi, India</td>\n",
              "      <td>Royal Nepal Airlines</td>\n",
              "      <td>NaN</td>\n",
              "      <td>Kathmandu - Delhi</td>\n",
              "      <td>Fokker F-27 Friendship 200</td>\n",
              "      <td>9N-AAR</td>\n",
              "      <td>1965</td>\n",
              "      <td>23.0</td>\n",
              "      <td>18.0</td>\n",
              "      <td>5.0</td>\n",
              "      <td>1.0</td>\n",
              "      <td>0.0</td>\n",
              "      <td>1.0</td>\n",
              "      <td>0.0</td>\n",
              "      <td>The aircraft crashed short of the runway after...</td>\n",
              "      <td>1970</td>\n",
              "      <td>4.347826</td>\n",
              "    </tr>\n",
              "    <tr>\n",
              "      <th>2440</th>\n",
              "      <td>1970-01-25</td>\n",
              "      <td>NaN</td>\n",
              "      <td>Near Poza Rica, Mexico</td>\n",
              "      <td>Charter -Federal Electricity Commission</td>\n",
              "      <td>NaN</td>\n",
              "      <td>Mexico City - Poza Rica</td>\n",
              "      <td>Convair CV-240-2</td>\n",
              "      <td>XB-DOK</td>\n",
              "      <td>071</td>\n",
              "      <td>19.0</td>\n",
              "      <td>15.0</td>\n",
              "      <td>4.0</td>\n",
              "      <td>18.0</td>\n",
              "      <td>14.0</td>\n",
              "      <td>4.0</td>\n",
              "      <td>0.0</td>\n",
              "      <td>Crashed into Vega Hill located six km east of ...</td>\n",
              "      <td>1970</td>\n",
              "      <td>94.736842</td>\n",
              "    </tr>\n",
              "  </tbody>\n",
              "</table>\n",
              "</div>"
            ],
            "text/plain": [
              "           Date   Time  ...  year percentage fatalities\n",
              "2435 1970-01-05  22:25  ...  1970             50.000000\n",
              "2437 1970-01-13  06:00  ...  1970            100.000000\n",
              "2438 1970-01-14    NaN  ...  1970            100.000000\n",
              "2439 1970-01-25  19:13  ...  1970              4.347826\n",
              "2440 1970-01-25    NaN  ...  1970             94.736842\n",
              "\n",
              "[5 rows x 19 columns]"
            ]
          },
          "metadata": {
            "tags": []
          },
          "execution_count": 95
        }
      ]
    },
    {
      "cell_type": "code",
      "metadata": {
        "id": "zgg11Jcv-a9f",
        "colab_type": "code",
        "colab": {
          "base_uri": "https://localhost:8080/",
          "height": 142
        },
        "outputId": "b4888ed4-4ea8-4785-b3c5-2168001f0c28"
      },
      "source": [
        "plane_crash_1970_2017['percentage fatalities'] = (plane_crash_1970_2017['Fatalities']  / plane_crash_1970_2017['Aboard'])*100"
      ],
      "execution_count": 102,
      "outputs": [
        {
          "output_type": "stream",
          "text": [
            "/usr/local/lib/python3.6/dist-packages/ipykernel_launcher.py:1: SettingWithCopyWarning: \n",
            "A value is trying to be set on a copy of a slice from a DataFrame.\n",
            "Try using .loc[row_indexer,col_indexer] = value instead\n",
            "\n",
            "See the caveats in the documentation: https://pandas.pydata.org/pandas-docs/stable/user_guide/indexing.html#returning-a-view-versus-a-copy\n",
            "  \"\"\"Entry point for launching an IPython kernel.\n"
          ],
          "name": "stderr"
        }
      ]
    },
    {
      "cell_type": "code",
      "metadata": {
        "id": "dUiQk6yM_ME3",
        "colab_type": "code",
        "colab": {
          "base_uri": "https://localhost:8080/",
          "height": 669
        },
        "outputId": "bbd96340-abc5-4c4d-c1d1-b3c0f0281aad"
      },
      "source": [
        "plane_crash_1970_2017.head()"
      ],
      "execution_count": 103,
      "outputs": [
        {
          "output_type": "execute_result",
          "data": {
            "text/html": [
              "<div>\n",
              "<style scoped>\n",
              "    .dataframe tbody tr th:only-of-type {\n",
              "        vertical-align: middle;\n",
              "    }\n",
              "\n",
              "    .dataframe tbody tr th {\n",
              "        vertical-align: top;\n",
              "    }\n",
              "\n",
              "    .dataframe thead th {\n",
              "        text-align: right;\n",
              "    }\n",
              "</style>\n",
              "<table border=\"1\" class=\"dataframe\">\n",
              "  <thead>\n",
              "    <tr style=\"text-align: right;\">\n",
              "      <th></th>\n",
              "      <th>Date</th>\n",
              "      <th>Time</th>\n",
              "      <th>Location</th>\n",
              "      <th>Operator</th>\n",
              "      <th>Flight #</th>\n",
              "      <th>Route</th>\n",
              "      <th>AC Type</th>\n",
              "      <th>Registration</th>\n",
              "      <th>cn/ln</th>\n",
              "      <th>Aboard</th>\n",
              "      <th>Aboard Passangers</th>\n",
              "      <th>Aboard Crew</th>\n",
              "      <th>Fatalities</th>\n",
              "      <th>Fatalities Passangers</th>\n",
              "      <th>Fatalities Crew</th>\n",
              "      <th>Ground</th>\n",
              "      <th>Summary</th>\n",
              "      <th>year</th>\n",
              "      <th>percentage fatalities</th>\n",
              "    </tr>\n",
              "  </thead>\n",
              "  <tbody>\n",
              "    <tr>\n",
              "      <th>2435</th>\n",
              "      <td>1970-01-05</td>\n",
              "      <td>22:25</td>\n",
              "      <td>Stockholm, Sweden</td>\n",
              "      <td>Spantax</td>\n",
              "      <td>NaN</td>\n",
              "      <td>Stockholm - Zurich</td>\n",
              "      <td>Convair CV-990-30A-5</td>\n",
              "      <td>EC-BNM</td>\n",
              "      <td>30-10-32</td>\n",
              "      <td>10.0</td>\n",
              "      <td>7.0</td>\n",
              "      <td>3.0</td>\n",
              "      <td>5.0</td>\n",
              "      <td>5.0</td>\n",
              "      <td>0.0</td>\n",
              "      <td>0.0</td>\n",
              "      <td>The plane developed trouble in the No. 4 engin...</td>\n",
              "      <td>1970</td>\n",
              "      <td>50.000000</td>\n",
              "    </tr>\n",
              "    <tr>\n",
              "      <th>2437</th>\n",
              "      <td>1970-01-13</td>\n",
              "      <td>06:00</td>\n",
              "      <td>Faleolo, Western Samoa</td>\n",
              "      <td>Polynesian Airlines</td>\n",
              "      <td>208B</td>\n",
              "      <td>Apia, Western Samoa - Pago Pago, American Samoa</td>\n",
              "      <td>Douglas DC-3</td>\n",
              "      <td>5W-FAC</td>\n",
              "      <td>16964</td>\n",
              "      <td>32.0</td>\n",
              "      <td>29.0</td>\n",
              "      <td>3.0</td>\n",
              "      <td>32.0</td>\n",
              "      <td>29.0</td>\n",
              "      <td>3.0</td>\n",
              "      <td>0.0</td>\n",
              "      <td>Crashed into a lagoon 400 yards past the end o...</td>\n",
              "      <td>1970</td>\n",
              "      <td>100.000000</td>\n",
              "    </tr>\n",
              "    <tr>\n",
              "      <th>2438</th>\n",
              "      <td>1970-01-14</td>\n",
              "      <td>NaN</td>\n",
              "      <td>Mt. Pumacona, Peru</td>\n",
              "      <td>Faucett</td>\n",
              "      <td>NaN</td>\n",
              "      <td>Trujillo - Juanjui</td>\n",
              "      <td>Douglas DC-4</td>\n",
              "      <td>OB-R-776</td>\n",
              "      <td>10591</td>\n",
              "      <td>28.0</td>\n",
              "      <td>24.0</td>\n",
              "      <td>4.0</td>\n",
              "      <td>28.0</td>\n",
              "      <td>24.0</td>\n",
              "      <td>4.0</td>\n",
              "      <td>0.0</td>\n",
              "      <td>Flew into a 10,500 ft. mountain. The mental st...</td>\n",
              "      <td>1970</td>\n",
              "      <td>100.000000</td>\n",
              "    </tr>\n",
              "    <tr>\n",
              "      <th>2439</th>\n",
              "      <td>1970-01-25</td>\n",
              "      <td>19:13</td>\n",
              "      <td>Near Delhi, India</td>\n",
              "      <td>Royal Nepal Airlines</td>\n",
              "      <td>NaN</td>\n",
              "      <td>Kathmandu - Delhi</td>\n",
              "      <td>Fokker F-27 Friendship 200</td>\n",
              "      <td>9N-AAR</td>\n",
              "      <td>1965</td>\n",
              "      <td>23.0</td>\n",
              "      <td>18.0</td>\n",
              "      <td>5.0</td>\n",
              "      <td>1.0</td>\n",
              "      <td>0.0</td>\n",
              "      <td>1.0</td>\n",
              "      <td>0.0</td>\n",
              "      <td>The aircraft crashed short of the runway after...</td>\n",
              "      <td>1970</td>\n",
              "      <td>4.347826</td>\n",
              "    </tr>\n",
              "    <tr>\n",
              "      <th>2440</th>\n",
              "      <td>1970-01-25</td>\n",
              "      <td>NaN</td>\n",
              "      <td>Near Poza Rica, Mexico</td>\n",
              "      <td>Charter -Federal Electricity Commission</td>\n",
              "      <td>NaN</td>\n",
              "      <td>Mexico City - Poza Rica</td>\n",
              "      <td>Convair CV-240-2</td>\n",
              "      <td>XB-DOK</td>\n",
              "      <td>071</td>\n",
              "      <td>19.0</td>\n",
              "      <td>15.0</td>\n",
              "      <td>4.0</td>\n",
              "      <td>18.0</td>\n",
              "      <td>14.0</td>\n",
              "      <td>4.0</td>\n",
              "      <td>0.0</td>\n",
              "      <td>Crashed into Vega Hill located six km east of ...</td>\n",
              "      <td>1970</td>\n",
              "      <td>94.736842</td>\n",
              "    </tr>\n",
              "  </tbody>\n",
              "</table>\n",
              "</div>"
            ],
            "text/plain": [
              "           Date   Time  ...  year percentage fatalities\n",
              "2435 1970-01-05  22:25  ...  1970             50.000000\n",
              "2437 1970-01-13  06:00  ...  1970            100.000000\n",
              "2438 1970-01-14    NaN  ...  1970            100.000000\n",
              "2439 1970-01-25  19:13  ...  1970              4.347826\n",
              "2440 1970-01-25    NaN  ...  1970             94.736842\n",
              "\n",
              "[5 rows x 19 columns]"
            ]
          },
          "metadata": {
            "tags": []
          },
          "execution_count": 103
        }
      ]
    },
    {
      "cell_type": "code",
      "metadata": {
        "id": "5PIw34Gd_lE9",
        "colab_type": "code",
        "colab": {
          "base_uri": "https://localhost:8080/",
          "height": 720
        },
        "outputId": "259b3c23-0749-414f-9b8a-bb5182455f37"
      },
      "source": [
        "plane_crash_total_fatalities = plane_crash_1970_2017[plane_crash_1970_2017['percentage fatalities'] == 100]\n",
        "print(plane_crash_total_fatalities.shape)\n",
        "plane_crash_total_fatalities.head()"
      ],
      "execution_count": 104,
      "outputs": [
        {
          "output_type": "stream",
          "text": [
            "(1259, 19)\n"
          ],
          "name": "stdout"
        },
        {
          "output_type": "execute_result",
          "data": {
            "text/html": [
              "<div>\n",
              "<style scoped>\n",
              "    .dataframe tbody tr th:only-of-type {\n",
              "        vertical-align: middle;\n",
              "    }\n",
              "\n",
              "    .dataframe tbody tr th {\n",
              "        vertical-align: top;\n",
              "    }\n",
              "\n",
              "    .dataframe thead th {\n",
              "        text-align: right;\n",
              "    }\n",
              "</style>\n",
              "<table border=\"1\" class=\"dataframe\">\n",
              "  <thead>\n",
              "    <tr style=\"text-align: right;\">\n",
              "      <th></th>\n",
              "      <th>Date</th>\n",
              "      <th>Time</th>\n",
              "      <th>Location</th>\n",
              "      <th>Operator</th>\n",
              "      <th>Flight #</th>\n",
              "      <th>Route</th>\n",
              "      <th>AC Type</th>\n",
              "      <th>Registration</th>\n",
              "      <th>cn/ln</th>\n",
              "      <th>Aboard</th>\n",
              "      <th>Aboard Passangers</th>\n",
              "      <th>Aboard Crew</th>\n",
              "      <th>Fatalities</th>\n",
              "      <th>Fatalities Passangers</th>\n",
              "      <th>Fatalities Crew</th>\n",
              "      <th>Ground</th>\n",
              "      <th>Summary</th>\n",
              "      <th>year</th>\n",
              "      <th>percentage fatalities</th>\n",
              "    </tr>\n",
              "  </thead>\n",
              "  <tbody>\n",
              "    <tr>\n",
              "      <th>2437</th>\n",
              "      <td>1970-01-13</td>\n",
              "      <td>06:00</td>\n",
              "      <td>Faleolo, Western Samoa</td>\n",
              "      <td>Polynesian Airlines</td>\n",
              "      <td>208B</td>\n",
              "      <td>Apia, Western Samoa - Pago Pago, American Samoa</td>\n",
              "      <td>Douglas DC-3</td>\n",
              "      <td>5W-FAC</td>\n",
              "      <td>16964</td>\n",
              "      <td>32.0</td>\n",
              "      <td>29.0</td>\n",
              "      <td>3.0</td>\n",
              "      <td>32.0</td>\n",
              "      <td>29.0</td>\n",
              "      <td>3.0</td>\n",
              "      <td>0.0</td>\n",
              "      <td>Crashed into a lagoon 400 yards past the end o...</td>\n",
              "      <td>1970</td>\n",
              "      <td>100.0</td>\n",
              "    </tr>\n",
              "    <tr>\n",
              "      <th>2438</th>\n",
              "      <td>1970-01-14</td>\n",
              "      <td>NaN</td>\n",
              "      <td>Mt. Pumacona, Peru</td>\n",
              "      <td>Faucett</td>\n",
              "      <td>NaN</td>\n",
              "      <td>Trujillo - Juanjui</td>\n",
              "      <td>Douglas DC-4</td>\n",
              "      <td>OB-R-776</td>\n",
              "      <td>10591</td>\n",
              "      <td>28.0</td>\n",
              "      <td>24.0</td>\n",
              "      <td>4.0</td>\n",
              "      <td>28.0</td>\n",
              "      <td>24.0</td>\n",
              "      <td>4.0</td>\n",
              "      <td>0.0</td>\n",
              "      <td>Flew into a 10,500 ft. mountain. The mental st...</td>\n",
              "      <td>1970</td>\n",
              "      <td>100.0</td>\n",
              "    </tr>\n",
              "    <tr>\n",
              "      <th>2441</th>\n",
              "      <td>1970-01-28</td>\n",
              "      <td>20:53</td>\n",
              "      <td>Near Batagai, Russia</td>\n",
              "      <td>Aeroflot</td>\n",
              "      <td>NaN</td>\n",
              "      <td>Chokurdakh - Batagay</td>\n",
              "      <td>Antonov AN-24</td>\n",
              "      <td>CCCP-47701</td>\n",
              "      <td>59900202</td>\n",
              "      <td>34.0</td>\n",
              "      <td>28.0</td>\n",
              "      <td>6.0</td>\n",
              "      <td>34.0</td>\n",
              "      <td>28.0</td>\n",
              "      <td>6.0</td>\n",
              "      <td>0.0</td>\n",
              "      <td>Crashed into a mountain while on approach afte...</td>\n",
              "      <td>1970</td>\n",
              "      <td>100.0</td>\n",
              "    </tr>\n",
              "    <tr>\n",
              "      <th>2442</th>\n",
              "      <td>1970-01-28</td>\n",
              "      <td>07:49</td>\n",
              "      <td>Cleveland, Ohio</td>\n",
              "      <td>TAG Airlines</td>\n",
              "      <td>NaN</td>\n",
              "      <td>Cleveland - Detroit</td>\n",
              "      <td>De Havilland Dove</td>\n",
              "      <td>N2300H</td>\n",
              "      <td>04444</td>\n",
              "      <td>9.0</td>\n",
              "      <td>7.0</td>\n",
              "      <td>2.0</td>\n",
              "      <td>9.0</td>\n",
              "      <td>7.0</td>\n",
              "      <td>2.0</td>\n",
              "      <td>0.0</td>\n",
              "      <td>The aircraft suffered an airframe failure whil...</td>\n",
              "      <td>1970</td>\n",
              "      <td>100.0</td>\n",
              "    </tr>\n",
              "    <tr>\n",
              "      <th>2443</th>\n",
              "      <td>1970-01-29</td>\n",
              "      <td>19:27</td>\n",
              "      <td>Near Murmansk, Russia</td>\n",
              "      <td>Aeroflot</td>\n",
              "      <td>145</td>\n",
              "      <td>Leningrad - Murmansk</td>\n",
              "      <td>Tupolev TU-124</td>\n",
              "      <td>CCCP-45083</td>\n",
              "      <td>5351706</td>\n",
              "      <td>11.0</td>\n",
              "      <td>32.0</td>\n",
              "      <td>6.0</td>\n",
              "      <td>11.0</td>\n",
              "      <td>8.0</td>\n",
              "      <td>3.0</td>\n",
              "      <td>0.0</td>\n",
              "      <td>Collided with a snow-covered rocky mountain sl...</td>\n",
              "      <td>1970</td>\n",
              "      <td>100.0</td>\n",
              "    </tr>\n",
              "  </tbody>\n",
              "</table>\n",
              "</div>"
            ],
            "text/plain": [
              "           Date   Time  ...  year percentage fatalities\n",
              "2437 1970-01-13  06:00  ...  1970                 100.0\n",
              "2438 1970-01-14    NaN  ...  1970                 100.0\n",
              "2441 1970-01-28  20:53  ...  1970                 100.0\n",
              "2442 1970-01-28  07:49  ...  1970                 100.0\n",
              "2443 1970-01-29  19:27  ...  1970                 100.0\n",
              "\n",
              "[5 rows x 19 columns]"
            ]
          },
          "metadata": {
            "tags": []
          },
          "execution_count": 104
        }
      ]
    },
    {
      "cell_type": "code",
      "metadata": {
        "id": "ICQdgQECFxDi",
        "colab_type": "code",
        "colab": {
          "base_uri": "https://localhost:8080/",
          "height": 1000
        },
        "outputId": "fd3ab267-5dcc-43dc-d449-07a465a82359"
      },
      "source": [
        "plane_crash_1970_2017[plane_crash_1970_2017['Ground'] > 0]"
      ],
      "execution_count": 165,
      "outputs": [
        {
          "output_type": "execute_result",
          "data": {
            "text/html": [
              "<div>\n",
              "<style scoped>\n",
              "    .dataframe tbody tr th:only-of-type {\n",
              "        vertical-align: middle;\n",
              "    }\n",
              "\n",
              "    .dataframe tbody tr th {\n",
              "        vertical-align: top;\n",
              "    }\n",
              "\n",
              "    .dataframe thead th {\n",
              "        text-align: right;\n",
              "    }\n",
              "</style>\n",
              "<table border=\"1\" class=\"dataframe\">\n",
              "  <thead>\n",
              "    <tr style=\"text-align: right;\">\n",
              "      <th></th>\n",
              "      <th>Date</th>\n",
              "      <th>Time</th>\n",
              "      <th>Location</th>\n",
              "      <th>Operator</th>\n",
              "      <th>Flight #</th>\n",
              "      <th>Route</th>\n",
              "      <th>AC Type</th>\n",
              "      <th>Registration</th>\n",
              "      <th>cn/ln</th>\n",
              "      <th>Aboard</th>\n",
              "      <th>Aboard Passangers</th>\n",
              "      <th>Aboard Crew</th>\n",
              "      <th>Fatalities</th>\n",
              "      <th>Fatalities Passangers</th>\n",
              "      <th>Fatalities Crew</th>\n",
              "      <th>Ground</th>\n",
              "      <th>Summary</th>\n",
              "      <th>year</th>\n",
              "      <th>percentage fatalities</th>\n",
              "    </tr>\n",
              "  </thead>\n",
              "  <tbody>\n",
              "    <tr>\n",
              "      <th>2448</th>\n",
              "      <td>1970-02-12</td>\n",
              "      <td>07:38</td>\n",
              "      <td>Puerto Infrida, Colombia</td>\n",
              "      <td>Lineas Aéreas La Urraca</td>\n",
              "      <td>NaN</td>\n",
              "      <td>Villavicencio - Puerto Inírida</td>\n",
              "      <td>Douglas DC-3 (C-47-DL)</td>\n",
              "      <td>HK-1270</td>\n",
              "      <td>4544</td>\n",
              "      <td>12.0</td>\n",
              "      <td>8.0</td>\n",
              "      <td>4.0</td>\n",
              "      <td>12.0</td>\n",
              "      <td>8.0</td>\n",
              "      <td>4.0</td>\n",
              "      <td>2.0</td>\n",
              "      <td>Crashed while attempting to return to the airp...</td>\n",
              "      <td>1970</td>\n",
              "      <td>100.000000</td>\n",
              "    </tr>\n",
              "    <tr>\n",
              "      <th>2469</th>\n",
              "      <td>1970-05-30</td>\n",
              "      <td>09:30</td>\n",
              "      <td>Chamblee, Georgia</td>\n",
              "      <td>Lehigh Acres Development Inc.</td>\n",
              "      <td>701</td>\n",
              "      <td>Chamblee, GA - Fort Myers,FL</td>\n",
              "      <td>Martin 404</td>\n",
              "      <td>N40412</td>\n",
              "      <td>14116</td>\n",
              "      <td>33.0</td>\n",
              "      <td>29.0</td>\n",
              "      <td>4.0</td>\n",
              "      <td>1.0</td>\n",
              "      <td>1.0</td>\n",
              "      <td>0.0</td>\n",
              "      <td>5.0</td>\n",
              "      <td>There was a loss of power as the aircraft clim...</td>\n",
              "      <td>1970</td>\n",
              "      <td>3.030303</td>\n",
              "    </tr>\n",
              "    <tr>\n",
              "      <th>2480</th>\n",
              "      <td>1970-08-09</td>\n",
              "      <td>15:00</td>\n",
              "      <td>Near Cuzco, Peru</td>\n",
              "      <td>Lineas Aereas Nacionales SA (Peru)</td>\n",
              "      <td>502</td>\n",
              "      <td>Cuzco - Lima</td>\n",
              "      <td>Lockheed 188A Electra</td>\n",
              "      <td>OB-R939</td>\n",
              "      <td>1106</td>\n",
              "      <td>100.0</td>\n",
              "      <td>91.0</td>\n",
              "      <td>9.0</td>\n",
              "      <td>99.0</td>\n",
              "      <td>91.0</td>\n",
              "      <td>8.0</td>\n",
              "      <td>2.0</td>\n",
              "      <td>The flight crashed shortly after takeoff after...</td>\n",
              "      <td>1970</td>\n",
              "      <td>99.000000</td>\n",
              "    </tr>\n",
              "    <tr>\n",
              "      <th>2575</th>\n",
              "      <td>1972-03-03</td>\n",
              "      <td>20:48</td>\n",
              "      <td>Albany, New York</td>\n",
              "      <td>Mohawk Airlines</td>\n",
              "      <td>405</td>\n",
              "      <td>New York City - Albany, NY</td>\n",
              "      <td>Fairchild-Hiller FH-227-B</td>\n",
              "      <td>N7818M</td>\n",
              "      <td>541</td>\n",
              "      <td>48.0</td>\n",
              "      <td>45.0</td>\n",
              "      <td>3.0</td>\n",
              "      <td>16.0</td>\n",
              "      <td>14.0</td>\n",
              "      <td>2.0</td>\n",
              "      <td>1.0</td>\n",
              "      <td>The aircraft was on final approach to Albany C...</td>\n",
              "      <td>1972</td>\n",
              "      <td>33.333333</td>\n",
              "    </tr>\n",
              "    <tr>\n",
              "      <th>2598</th>\n",
              "      <td>1972-06-14</td>\n",
              "      <td>20:20</td>\n",
              "      <td>Near New Delhi, India</td>\n",
              "      <td>Japan Air Lines</td>\n",
              "      <td>471</td>\n",
              "      <td>Bangkok - Delhi</td>\n",
              "      <td>McDonnell Douglas DC-8-53</td>\n",
              "      <td>JA8012</td>\n",
              "      <td>45860/213</td>\n",
              "      <td>87.0</td>\n",
              "      <td>76.0</td>\n",
              "      <td>11.0</td>\n",
              "      <td>82.0</td>\n",
              "      <td>72.0</td>\n",
              "      <td>10.0</td>\n",
              "      <td>4.0</td>\n",
              "      <td>The aircraft crashed short of the runway. Indi...</td>\n",
              "      <td>1972</td>\n",
              "      <td>94.252874</td>\n",
              "    </tr>\n",
              "    <tr>\n",
              "      <th>...</th>\n",
              "      <td>...</td>\n",
              "      <td>...</td>\n",
              "      <td>...</td>\n",
              "      <td>...</td>\n",
              "      <td>...</td>\n",
              "      <td>...</td>\n",
              "      <td>...</td>\n",
              "      <td>...</td>\n",
              "      <td>...</td>\n",
              "      <td>...</td>\n",
              "      <td>...</td>\n",
              "      <td>...</td>\n",
              "      <td>...</td>\n",
              "      <td>...</td>\n",
              "      <td>...</td>\n",
              "      <td>...</td>\n",
              "      <td>...</td>\n",
              "      <td>...</td>\n",
              "      <td>...</td>\n",
              "    </tr>\n",
              "    <tr>\n",
              "      <th>4832</th>\n",
              "      <td>2012-11-30</td>\n",
              "      <td>17:50</td>\n",
              "      <td>Near Brazzaville, Congo</td>\n",
              "      <td>Aero Service</td>\n",
              "      <td>NaN</td>\n",
              "      <td>Pointe Noire - Brazzaville</td>\n",
              "      <td>Ilysushin Il-76T</td>\n",
              "      <td>EK-76300</td>\n",
              "      <td>083410300</td>\n",
              "      <td>7.0</td>\n",
              "      <td>0.0</td>\n",
              "      <td>7.0</td>\n",
              "      <td>7.0</td>\n",
              "      <td>0.0</td>\n",
              "      <td>7.0</td>\n",
              "      <td>25.0</td>\n",
              "      <td>The cargo plane crashed into a dozen houses in...</td>\n",
              "      <td>2012</td>\n",
              "      <td>100.000000</td>\n",
              "    </tr>\n",
              "    <tr>\n",
              "      <th>4836</th>\n",
              "      <td>2012-12-25</td>\n",
              "      <td>08:50</td>\n",
              "      <td>Heho, Myanmar</td>\n",
              "      <td>Air Bagan</td>\n",
              "      <td>W9-011</td>\n",
              "      <td>Mandalay - Heho</td>\n",
              "      <td>Fokker 100</td>\n",
              "      <td>XY-AGC</td>\n",
              "      <td>11327</td>\n",
              "      <td>71.0</td>\n",
              "      <td>65.0</td>\n",
              "      <td>6.0</td>\n",
              "      <td>1.0</td>\n",
              "      <td>0.0</td>\n",
              "      <td>1.0</td>\n",
              "      <td>1.0</td>\n",
              "      <td>The passenger plane crash in a field two miles...</td>\n",
              "      <td>2012</td>\n",
              "      <td>1.408451</td>\n",
              "    </tr>\n",
              "    <tr>\n",
              "      <th>4859</th>\n",
              "      <td>2013-11-29</td>\n",
              "      <td>20:25</td>\n",
              "      <td>Glasgow Scotland</td>\n",
              "      <td>Bond Air Services Ltd.</td>\n",
              "      <td>NaN</td>\n",
              "      <td>NaN</td>\n",
              "      <td>Eurocopter EC135 T2</td>\n",
              "      <td>G-SPAO</td>\n",
              "      <td>0546</td>\n",
              "      <td>3.0</td>\n",
              "      <td>2.0</td>\n",
              "      <td>1.0</td>\n",
              "      <td>3.0</td>\n",
              "      <td>2.0</td>\n",
              "      <td>1.0</td>\n",
              "      <td>5.0</td>\n",
              "      <td>The police helicopter crashed into the roof of...</td>\n",
              "      <td>2013</td>\n",
              "      <td>100.000000</td>\n",
              "    </tr>\n",
              "    <tr>\n",
              "      <th>4918</th>\n",
              "      <td>2016-08-05</td>\n",
              "      <td>12:38</td>\n",
              "      <td>Dubai, United Arab Emirates</td>\n",
              "      <td>Emirates</td>\n",
              "      <td>521</td>\n",
              "      <td>Thiruvanthapuram, India - Dubai, UAE</td>\n",
              "      <td>Boeing 777-31H</td>\n",
              "      <td>A6-EMW</td>\n",
              "      <td>32700/434</td>\n",
              "      <td>300.0</td>\n",
              "      <td>282.0</td>\n",
              "      <td>18.0</td>\n",
              "      <td>0.0</td>\n",
              "      <td>0.0</td>\n",
              "      <td>0.0</td>\n",
              "      <td>1.0</td>\n",
              "      <td>After being cleared to land, the crew informed...</td>\n",
              "      <td>2016</td>\n",
              "      <td>0.000000</td>\n",
              "    </tr>\n",
              "    <tr>\n",
              "      <th>4927</th>\n",
              "      <td>2017-01-16</td>\n",
              "      <td>07:19</td>\n",
              "      <td>Bishkek, Kyrgyzstan</td>\n",
              "      <td>My Cargo Airlines (ACT Airlines)</td>\n",
              "      <td>6491</td>\n",
              "      <td>Hong Kong - Bishkek - Istanbul</td>\n",
              "      <td>Boeing 747-412F</td>\n",
              "      <td>TC-MCL</td>\n",
              "      <td>32897/1322</td>\n",
              "      <td>4.0</td>\n",
              "      <td>0.0</td>\n",
              "      <td>4.0</td>\n",
              "      <td>4.0</td>\n",
              "      <td>0.0</td>\n",
              "      <td>4.0</td>\n",
              "      <td>35.0</td>\n",
              "      <td>While approaching Bishkek for a fuel stop, the...</td>\n",
              "      <td>2017</td>\n",
              "      <td>100.000000</td>\n",
              "    </tr>\n",
              "  </tbody>\n",
              "</table>\n",
              "<p>111 rows × 19 columns</p>\n",
              "</div>"
            ],
            "text/plain": [
              "           Date   Time  ...  year percentage fatalities\n",
              "2448 1970-02-12  07:38  ...  1970            100.000000\n",
              "2469 1970-05-30  09:30  ...  1970              3.030303\n",
              "2480 1970-08-09  15:00  ...  1970             99.000000\n",
              "2575 1972-03-03  20:48  ...  1972             33.333333\n",
              "2598 1972-06-14  20:20  ...  1972             94.252874\n",
              "...         ...    ...  ...   ...                   ...\n",
              "4832 2012-11-30  17:50  ...  2012            100.000000\n",
              "4836 2012-12-25  08:50  ...  2012              1.408451\n",
              "4859 2013-11-29  20:25  ...  2013            100.000000\n",
              "4918 2016-08-05  12:38  ...  2016              0.000000\n",
              "4927 2017-01-16  07:19  ...  2017            100.000000\n",
              "\n",
              "[111 rows x 19 columns]"
            ]
          },
          "metadata": {
            "tags": []
          },
          "execution_count": 165
        }
      ]
    },
    {
      "cell_type": "code",
      "metadata": {
        "id": "TGpcpSeMFNHg",
        "colab_type": "code",
        "colab": {
          "base_uri": "https://localhost:8080/",
          "height": 34
        },
        "outputId": "d6f97e1b-a3b3-4e54-d35c-b652e49b3f72"
      },
      "source": [
        "plane_crash_1970_2017['Aboard'].sum() + plane_crash_1970_2017['Ground'].sum()"
      ],
      "execution_count": 162,
      "outputs": [
        {
          "output_type": "execute_result",
          "data": {
            "text/plain": [
              "95903.0"
            ]
          },
          "metadata": {
            "tags": []
          },
          "execution_count": 162
        }
      ]
    },
    {
      "cell_type": "code",
      "metadata": {
        "id": "qJKe-4T7FhCd",
        "colab_type": "code",
        "colab": {
          "base_uri": "https://localhost:8080/",
          "height": 34
        },
        "outputId": "e631baff-9980-4dd6-8b3e-51d2ca89ea4a"
      },
      "source": [
        "plane_crash_1970_2017.shape"
      ],
      "execution_count": 164,
      "outputs": [
        {
          "output_type": "execute_result",
          "data": {
            "text/plain": [
              "(2125, 19)"
            ]
          },
          "metadata": {
            "tags": []
          },
          "execution_count": 164
        }
      ]
    },
    {
      "cell_type": "code",
      "metadata": {
        "id": "7dpAtry6AM_l",
        "colab_type": "code",
        "colab": {
          "base_uri": "https://localhost:8080/",
          "height": 34
        },
        "outputId": "e68c4020-af65-4f39-c93f-aaee9eeceb0c"
      },
      "source": [
        "total_fat = plane_crash_total_fatalities.shape[0]\n",
        "total_cras = plane_crash_1970_2017.shape[0]\n",
        "total_fat /total_cras"
      ],
      "execution_count": 105,
      "outputs": [
        {
          "output_type": "execute_result",
          "data": {
            "text/plain": [
              "0.5924705882352941"
            ]
          },
          "metadata": {
            "tags": []
          },
          "execution_count": 105
        }
      ]
    },
    {
      "cell_type": "code",
      "metadata": {
        "id": "xaleARJyAmKJ",
        "colab_type": "code",
        "colab": {
          "base_uri": "https://localhost:8080/",
          "height": 369
        },
        "outputId": "c8c781d9-eb72-492c-a5c8-2bfb6c6e38fa"
      },
      "source": [
        "plane_crash_1970_2017.isnull().sum()"
      ],
      "execution_count": 107,
      "outputs": [
        {
          "output_type": "execute_result",
          "data": {
            "text/plain": [
              "Date                        0\n",
              "Time                      471\n",
              "Location                    1\n",
              "Operator                    1\n",
              "Flight #                 1341\n",
              "Route                     180\n",
              "AC Type                     1\n",
              "Registration               25\n",
              "cn/ln                      98\n",
              "Aboard                      2\n",
              "Aboard Passangers          35\n",
              "Aboard Crew                36\n",
              "Fatalities                  0\n",
              "Fatalities Passangers      37\n",
              "Fatalities Crew            38\n",
              "Ground                      3\n",
              "Summary                    11\n",
              "year                        0\n",
              "percentage fatalities       2\n",
              "dtype: int64"
            ]
          },
          "metadata": {
            "tags": []
          },
          "execution_count": 107
        }
      ]
    },
    {
      "cell_type": "code",
      "metadata": {
        "id": "wPlRgjdR885F",
        "colab_type": "code",
        "colab": {
          "base_uri": "https://localhost:8080/",
          "height": 34
        },
        "outputId": "ba4216f4-c291-4ec8-c991-ebfc139e2146"
      },
      "source": [
        "plane_crash_1970_2017['Fatalities'].sum()"
      ],
      "execution_count": 106,
      "outputs": [
        {
          "output_type": "execute_result",
          "data": {
            "text/plain": [
              "58107.0"
            ]
          },
          "metadata": {
            "tags": []
          },
          "execution_count": 106
        }
      ]
    },
    {
      "cell_type": "code",
      "metadata": {
        "id": "DHdOO_py9mBE",
        "colab_type": "code",
        "colab": {
          "base_uri": "https://localhost:8080/",
          "height": 34
        },
        "outputId": "c214d76a-79a0-4a5c-940b-c69bf96a3522"
      },
      "source": [
        "total = 0 \n",
        "for item in plane_crash_1970_2017['Fatalities']:\n",
        "  total += item\n",
        "total_crash = plane_crash_1970_2017.shape[0]\n",
        "total / total_crash\n",
        "#print(total)"
      ],
      "execution_count": 108,
      "outputs": [
        {
          "output_type": "execute_result",
          "data": {
            "text/plain": [
              "27.344470588235293"
            ]
          },
          "metadata": {
            "tags": []
          },
          "execution_count": 108
        }
      ]
    },
    {
      "cell_type": "code",
      "metadata": {
        "id": "P7KpDS-OQtxb",
        "colab_type": "code",
        "colab": {
          "base_uri": "https://localhost:8080/",
          "height": 369
        },
        "outputId": "91a3b7c8-cfb4-4cf7-a12d-ecdbc2bf9049"
      },
      "source": [
        "plane_crash_1970_2017.isnull().sum()"
      ],
      "execution_count": 115,
      "outputs": [
        {
          "output_type": "execute_result",
          "data": {
            "text/plain": [
              "Date                        0\n",
              "Time                      471\n",
              "Location                    1\n",
              "Operator                    1\n",
              "Flight #                 1341\n",
              "Route                     180\n",
              "AC Type                     1\n",
              "Registration               25\n",
              "cn/ln                      98\n",
              "Aboard                      2\n",
              "Aboard Passangers          35\n",
              "Aboard Crew                36\n",
              "Fatalities                  0\n",
              "Fatalities Passangers      37\n",
              "Fatalities Crew            38\n",
              "Ground                      3\n",
              "Summary                    11\n",
              "year                        0\n",
              "percentage fatalities       2\n",
              "dtype: int64"
            ]
          },
          "metadata": {
            "tags": []
          },
          "execution_count": 115
        }
      ]
    },
    {
      "cell_type": "code",
      "metadata": {
        "id": "fJAnZ845QOIw",
        "colab_type": "code",
        "colab": {
          "base_uri": "https://localhost:8080/",
          "height": 635
        },
        "outputId": "64749aad-4fcc-4c5f-916c-b3b675d1c45c"
      },
      "source": [
        "plane_crash_1970_2017.tail().sort_index()"
      ],
      "execution_count": 116,
      "outputs": [
        {
          "output_type": "execute_result",
          "data": {
            "text/html": [
              "<div>\n",
              "<style scoped>\n",
              "    .dataframe tbody tr th:only-of-type {\n",
              "        vertical-align: middle;\n",
              "    }\n",
              "\n",
              "    .dataframe tbody tr th {\n",
              "        vertical-align: top;\n",
              "    }\n",
              "\n",
              "    .dataframe thead th {\n",
              "        text-align: right;\n",
              "    }\n",
              "</style>\n",
              "<table border=\"1\" class=\"dataframe\">\n",
              "  <thead>\n",
              "    <tr style=\"text-align: right;\">\n",
              "      <th></th>\n",
              "      <th>Date</th>\n",
              "      <th>Time</th>\n",
              "      <th>Location</th>\n",
              "      <th>Operator</th>\n",
              "      <th>Flight #</th>\n",
              "      <th>Route</th>\n",
              "      <th>AC Type</th>\n",
              "      <th>Registration</th>\n",
              "      <th>cn/ln</th>\n",
              "      <th>Aboard</th>\n",
              "      <th>Aboard Passangers</th>\n",
              "      <th>Aboard Crew</th>\n",
              "      <th>Fatalities</th>\n",
              "      <th>Fatalities Passangers</th>\n",
              "      <th>Fatalities Crew</th>\n",
              "      <th>Ground</th>\n",
              "      <th>Summary</th>\n",
              "      <th>year</th>\n",
              "      <th>percentage fatalities</th>\n",
              "    </tr>\n",
              "  </thead>\n",
              "  <tbody>\n",
              "    <tr>\n",
              "      <th>4937</th>\n",
              "      <td>2017-10-12</td>\n",
              "      <td>17:15</td>\n",
              "      <td>Near Cuílo, Angola</td>\n",
              "      <td>Guicango</td>\n",
              "      <td>NaN</td>\n",
              "      <td>Dundo - Luanda</td>\n",
              "      <td>Embraer EMB-120ER</td>\n",
              "      <td>D2-FDO</td>\n",
              "      <td>120082</td>\n",
              "      <td>7.0</td>\n",
              "      <td>4.0</td>\n",
              "      <td>3.0</td>\n",
              "      <td>7.0</td>\n",
              "      <td>4.0</td>\n",
              "      <td>3.0</td>\n",
              "      <td>0.0</td>\n",
              "      <td>The air ambulance crashed en route shortly aft...</td>\n",
              "      <td>2017</td>\n",
              "      <td>100.0</td>\n",
              "    </tr>\n",
              "    <tr>\n",
              "      <th>4938</th>\n",
              "      <td>2017-10-14</td>\n",
              "      <td>08:30</td>\n",
              "      <td>Abidjan, Ivory Coast</td>\n",
              "      <td>Valan International Cargo Charter</td>\n",
              "      <td>NaN</td>\n",
              "      <td>Burkina Faso - Abidjan</td>\n",
              "      <td>Antonov AN-26-100</td>\n",
              "      <td>ER-AVB</td>\n",
              "      <td>3204</td>\n",
              "      <td>10.0</td>\n",
              "      <td>4.0</td>\n",
              "      <td>6.0</td>\n",
              "      <td>4.0</td>\n",
              "      <td>4.0</td>\n",
              "      <td>0.0</td>\n",
              "      <td>0.0</td>\n",
              "      <td>The cargo plane, carrying French military carg...</td>\n",
              "      <td>2017</td>\n",
              "      <td>40.0</td>\n",
              "    </tr>\n",
              "    <tr>\n",
              "      <th>4939</th>\n",
              "      <td>2017-11-15</td>\n",
              "      <td>08:00</td>\n",
              "      <td>Empakaai, Tanzania</td>\n",
              "      <td>Costal Aviation</td>\n",
              "      <td>NaN</td>\n",
              "      <td>Arusha - Serengeti</td>\n",
              "      <td>Cessna 208B Grand Caravan</td>\n",
              "      <td>5H-EGG</td>\n",
              "      <td>208B-0476</td>\n",
              "      <td>11.0</td>\n",
              "      <td>10.0</td>\n",
              "      <td>1.0</td>\n",
              "      <td>11.0</td>\n",
              "      <td>10.0</td>\n",
              "      <td>1.0</td>\n",
              "      <td>0.0</td>\n",
              "      <td>The chartered Cessna was flying tourists from ...</td>\n",
              "      <td>2017</td>\n",
              "      <td>100.0</td>\n",
              "    </tr>\n",
              "    <tr>\n",
              "      <th>4940</th>\n",
              "      <td>2017-12-13</td>\n",
              "      <td>18:15</td>\n",
              "      <td>Near Fond-du-Lac, Saskatchewan</td>\n",
              "      <td>West Wind Aviation</td>\n",
              "      <td>NaN</td>\n",
              "      <td>Fond-du-Lac - Stony Rapids</td>\n",
              "      <td>ATR42-320</td>\n",
              "      <td>C-GWEA</td>\n",
              "      <td>240</td>\n",
              "      <td>25.0</td>\n",
              "      <td>22.0</td>\n",
              "      <td>3.0</td>\n",
              "      <td>1.0</td>\n",
              "      <td>1.0</td>\n",
              "      <td>0.0</td>\n",
              "      <td>0.0</td>\n",
              "      <td>Shortly after taking off, the aircraft lost al...</td>\n",
              "      <td>2017</td>\n",
              "      <td>4.0</td>\n",
              "    </tr>\n",
              "    <tr>\n",
              "      <th>4941</th>\n",
              "      <td>2017-12-31</td>\n",
              "      <td>12:16</td>\n",
              "      <td>Punta Islita, Costa Rica</td>\n",
              "      <td>Naure Air</td>\n",
              "      <td>NaN</td>\n",
              "      <td>Punta Islita - San Jose</td>\n",
              "      <td>Cessna 208B Grand Caravan</td>\n",
              "      <td>TI-BEI</td>\n",
              "      <td>208B-0900</td>\n",
              "      <td>12.0</td>\n",
              "      <td>10.0</td>\n",
              "      <td>2.0</td>\n",
              "      <td>12.0</td>\n",
              "      <td>10.0</td>\n",
              "      <td>2.0</td>\n",
              "      <td>0.0</td>\n",
              "      <td>The passenger plane crashed 10 minutes after t...</td>\n",
              "      <td>2017</td>\n",
              "      <td>100.0</td>\n",
              "    </tr>\n",
              "  </tbody>\n",
              "</table>\n",
              "</div>"
            ],
            "text/plain": [
              "           Date   Time  ...  year percentage fatalities\n",
              "4937 2017-10-12  17:15  ...  2017                 100.0\n",
              "4938 2017-10-14  08:30  ...  2017                  40.0\n",
              "4939 2017-11-15  08:00  ...  2017                 100.0\n",
              "4940 2017-12-13  18:15  ...  2017                   4.0\n",
              "4941 2017-12-31  12:16  ...  2017                 100.0\n",
              "\n",
              "[5 rows x 19 columns]"
            ]
          },
          "metadata": {
            "tags": []
          },
          "execution_count": 116
        }
      ]
    },
    {
      "cell_type": "code",
      "metadata": {
        "id": "hp_h2m1yBwsZ",
        "colab_type": "code",
        "colab": {
          "base_uri": "https://localhost:8080/",
          "height": 279
        },
        "outputId": "4fda25fd-14e2-4567-d1c6-89ddb421651a"
      },
      "source": [
        "plane_crash_1970_2017.plot.scatter('year','Fatalities');"
      ],
      "execution_count": 109,
      "outputs": [
        {
          "output_type": "display_data",
          "data": {
            "image/png": "[encoded data removed]",
            "text/plain": [
              "<Figure size 432x288 with 1 Axes>"
            ]
          },
          "metadata": {
            "tags": [],
            "needs_background": "light"
          }
        }
      ]
    },
    {
      "cell_type": "code",
      "metadata": {
        "id": "6TrAelKJaVMR",
        "colab_type": "code",
        "colab": {
          "base_uri": "https://localhost:8080/",
          "height": 369
        },
        "outputId": "7a5bfbce-470d-480d-8514-210400d841fb"
      },
      "source": [
        "plane_crash_1970_2017.dtypes"
      ],
      "execution_count": 117,
      "outputs": [
        {
          "output_type": "execute_result",
          "data": {
            "text/plain": [
              "Date                     datetime64[ns]\n",
              "Time                             object\n",
              "Location                         object\n",
              "Operator                         object\n",
              "Flight #                         object\n",
              "Route                            object\n",
              "AC Type                          object\n",
              "Registration                     object\n",
              "cn/ln                            object\n",
              "Aboard                          float64\n",
              "Aboard Passangers               float64\n",
              "Aboard Crew                     float64\n",
              "Fatalities                      float64\n",
              "Fatalities Passangers           float64\n",
              "Fatalities Crew                 float64\n",
              "Ground                          float64\n",
              "Summary                          object\n",
              "year                              int64\n",
              "percentage fatalities           float64\n",
              "dtype: object"
            ]
          },
          "metadata": {
            "tags": []
          },
          "execution_count": 117
        }
      ]
    },
    {
      "cell_type": "code",
      "metadata": {
        "id": "gcgH5MsJOFT5",
        "colab_type": "code",
        "colab": {
          "base_uri": "https://localhost:8080/",
          "height": 265
        },
        "outputId": "d4957592-fc8b-44fe-b4db-4e63a7ab7fb5"
      },
      "source": [
        "plane_crash_1970_2017['year'].hist();"
      ],
      "execution_count": 111,
      "outputs": [
        {
          "output_type": "display_data",
          "data": {
            "image/png": "[encoded data removed]",
            "text/plain": [
              "<Figure size 432x288 with 1 Axes>"
            ]
          },
          "metadata": {
            "tags": [],
            "needs_background": "light"
          }
        }
      ]
    },
    {
      "cell_type": "code",
      "metadata": {
        "id": "ILT45PvIPfBJ",
        "colab_type": "code",
        "colab": {
          "base_uri": "https://localhost:8080/",
          "height": 265
        },
        "outputId": "89cb0b90-e262-4550-dc46-dc7def9539d8"
      },
      "source": [
        "fig, ax = plt.subplots()\n",
        "ax.bar(x=plane_crash_1970_2017['year'], height=plane_crash_1970_2017['Fatalities'])\n",
        "plt.show()"
      ],
      "execution_count": 113,
      "outputs": [
        {
          "output_type": "display_data",
          "data": {
            "image/png": "[encoded data removed]",
            "text/plain": [
              "<Figure size 432x288 with 1 Axes>"
            ]
          },
          "metadata": {
            "tags": [],
            "needs_background": "light"
          }
        }
      ]
    },
    {
      "cell_type": "code",
      "metadata": {
        "id": "Nhq10M1qWHGr",
        "colab_type": "code",
        "colab": {}
      },
      "source": [
        "car_accidents = pd.read_csv('https://raw.githubusercontent.com/sberniz/FlyingvsDriving/master/data/auto_data_2017.csv')"
      ],
      "execution_count": 6,
      "outputs": []
    },
    {
      "cell_type": "code",
      "metadata": {
        "id": "OyAr0pq6WLDW",
        "colab_type": "code",
        "colab": {
          "base_uri": "https://localhost:8080/",
          "height": 213
        },
        "outputId": "f8923a60-4309-4830-dbd2-30297f5db100"
      },
      "source": [
        "print(car_accidents.shape)\n",
        "car_accidents.head().sort_values('TIME')"
      ],
      "execution_count": 8,
      "outputs": [
        {
          "output_type": "stream",
          "text": [
            "(8976, 8)\n"
          ],
          "name": "stdout"
        },
        {
          "output_type": "execute_result",
          "data": {
            "text/html": [
              "<div>\n",
              "<style scoped>\n",
              "    .dataframe tbody tr th:only-of-type {\n",
              "        vertical-align: middle;\n",
              "    }\n",
              "\n",
              "    .dataframe tbody tr th {\n",
              "        vertical-align: top;\n",
              "    }\n",
              "\n",
              "    .dataframe thead th {\n",
              "        text-align: right;\n",
              "    }\n",
              "</style>\n",
              "<table border=\"1\" class=\"dataframe\">\n",
              "  <thead>\n",
              "    <tr style=\"text-align: right;\">\n",
              "      <th></th>\n",
              "      <th>LOCATION</th>\n",
              "      <th>INDICATOR</th>\n",
              "      <th>SUBJECT</th>\n",
              "      <th>MEASURE</th>\n",
              "      <th>FREQUENCY</th>\n",
              "      <th>TIME</th>\n",
              "      <th>Value</th>\n",
              "      <th>Flag Codes</th>\n",
              "    </tr>\n",
              "  </thead>\n",
              "  <tbody>\n",
              "    <tr>\n",
              "      <th>0</th>\n",
              "      <td>SVN</td>\n",
              "      <td>ROADACCID</td>\n",
              "      <td>DEATH</td>\n",
              "      <td>NBR</td>\n",
              "      <td>A</td>\n",
              "      <td>1970</td>\n",
              "      <td>620.0</td>\n",
              "      <td>NaN</td>\n",
              "    </tr>\n",
              "    <tr>\n",
              "      <th>1</th>\n",
              "      <td>SVN</td>\n",
              "      <td>ROADACCID</td>\n",
              "      <td>DEATH</td>\n",
              "      <td>NBR</td>\n",
              "      <td>A</td>\n",
              "      <td>1971</td>\n",
              "      <td>644.0</td>\n",
              "      <td>NaN</td>\n",
              "    </tr>\n",
              "    <tr>\n",
              "      <th>2</th>\n",
              "      <td>SVN</td>\n",
              "      <td>ROADACCID</td>\n",
              "      <td>DEATH</td>\n",
              "      <td>NBR</td>\n",
              "      <td>A</td>\n",
              "      <td>1972</td>\n",
              "      <td>625.0</td>\n",
              "      <td>NaN</td>\n",
              "    </tr>\n",
              "    <tr>\n",
              "      <th>3</th>\n",
              "      <td>SVN</td>\n",
              "      <td>ROADACCID</td>\n",
              "      <td>DEATH</td>\n",
              "      <td>NBR</td>\n",
              "      <td>A</td>\n",
              "      <td>1973</td>\n",
              "      <td>701.0</td>\n",
              "      <td>NaN</td>\n",
              "    </tr>\n",
              "    <tr>\n",
              "      <th>4</th>\n",
              "      <td>SVN</td>\n",
              "      <td>ROADACCID</td>\n",
              "      <td>DEATH</td>\n",
              "      <td>NBR</td>\n",
              "      <td>A</td>\n",
              "      <td>1974</td>\n",
              "      <td>557.0</td>\n",
              "      <td>NaN</td>\n",
              "    </tr>\n",
              "  </tbody>\n",
              "</table>\n",
              "</div>"
            ],
            "text/plain": [
              "  LOCATION  INDICATOR SUBJECT MEASURE FREQUENCY  TIME  Value Flag Codes\n",
              "0      SVN  ROADACCID   DEATH     NBR         A  1970  620.0        NaN\n",
              "1      SVN  ROADACCID   DEATH     NBR         A  1971  644.0        NaN\n",
              "2      SVN  ROADACCID   DEATH     NBR         A  1972  625.0        NaN\n",
              "3      SVN  ROADACCID   DEATH     NBR         A  1973  701.0        NaN\n",
              "4      SVN  ROADACCID   DEATH     NBR         A  1974  557.0        NaN"
            ]
          },
          "metadata": {
            "tags": []
          },
          "execution_count": 8
        }
      ]
    },
    {
      "cell_type": "code",
      "metadata": {
        "id": "4GW7p2-6WQUw",
        "colab_type": "code",
        "colab": {
          "base_uri": "https://localhost:8080/",
          "height": 87
        },
        "outputId": "85780422-499d-44bf-b7b7-ff453dda1739"
      },
      "source": [
        "car_accidents['SUBJECT'].value_counts().sort_index()"
      ],
      "execution_count": null,
      "outputs": [
        {
          "output_type": "execute_result",
          "data": {
            "text/plain": [
              "ACCIDENTCASUAL    2287\n",
              "DEATH             4403\n",
              "INJURE            2286\n",
              "Name: SUBJECT, dtype: int64"
            ]
          },
          "metadata": {
            "tags": []
          },
          "execution_count": 18
        }
      ]
    },
    {
      "cell_type": "code",
      "metadata": {
        "id": "ZmV3YQKIWesr",
        "colab_type": "code",
        "colab": {
          "base_uri": "https://localhost:8080/",
          "height": 35
        },
        "outputId": "b9140a9b-a824-40e0-f79f-467f7b7be342"
      },
      "source": [
        "car_accidents['SUBJECT'].value_counts().sort_index()[1]\n",
        "death_total = car_accidents['SUBJECT'].value_counts().sort_index()[1]\n",
        "total_acc = car_accidents.shape[0]\n",
        "total_acc\n",
        "death_total / total_acc"
      ],
      "execution_count": null,
      "outputs": [
        {
          "output_type": "execute_result",
          "data": {
            "text/plain": [
              "0.49053030303030304"
            ]
          },
          "metadata": {
            "tags": []
          },
          "execution_count": 19
        }
      ]
    },
    {
      "cell_type": "code",
      "metadata": {
        "id": "lpDnz6_aZ7yN",
        "colab_type": "code",
        "colab": {}
      },
      "source": [
        "car_accidents_death['date'] = car_accidents_death['TIME']."
      ],
      "execution_count": null,
      "outputs": []
    },
    {
      "cell_type": "code",
      "metadata": {
        "id": "7hpX4rreafsB",
        "colab_type": "code",
        "colab": {
          "base_uri": "https://localhost:8080/",
          "height": 282
        },
        "outputId": "51e4dbda-55dc-4087-db53-c62f0499a78f"
      },
      "source": [
        "car_accidents['TIME'].hist()"
      ],
      "execution_count": 118,
      "outputs": [
        {
          "output_type": "execute_result",
          "data": {
            "text/plain": [
              "<matplotlib.axes._subplots.AxesSubplot at 0x7f69f7b390f0>"
            ]
          },
          "metadata": {
            "tags": []
          },
          "execution_count": 118
        },
        {
          "output_type": "display_data",
          "data": {
            "image/png": "[encoded data removed]",
            "text/plain": [
              "<Figure size 432x288 with 1 Axes>"
            ]
          },
          "metadata": {
            "tags": [],
            "needs_background": "light"
          }
        }
      ]
    },
    {
      "cell_type": "code",
      "metadata": {
        "id": "VHY4ZK7qa-fe",
        "colab_type": "code",
        "colab": {
          "base_uri": "https://localhost:8080/",
          "height": 402
        },
        "outputId": "a0f77751-2628-4b38-a9d4-54891bebcfa8"
      },
      "source": [
        "car_accidents[car_accidents['SUBJECT'] == 'DEATH']"
      ],
      "execution_count": 120,
      "outputs": [
        {
          "output_type": "execute_result",
          "data": {
            "text/html": [
              "<div>\n",
              "<style scoped>\n",
              "    .dataframe tbody tr th:only-of-type {\n",
              "        vertical-align: middle;\n",
              "    }\n",
              "\n",
              "    .dataframe tbody tr th {\n",
              "        vertical-align: top;\n",
              "    }\n",
              "\n",
              "    .dataframe thead th {\n",
              "        text-align: right;\n",
              "    }\n",
              "</style>\n",
              "<table border=\"1\" class=\"dataframe\">\n",
              "  <thead>\n",
              "    <tr style=\"text-align: right;\">\n",
              "      <th></th>\n",
              "      <th>LOCATION</th>\n",
              "      <th>INDICATOR</th>\n",
              "      <th>SUBJECT</th>\n",
              "      <th>MEASURE</th>\n",
              "      <th>FREQUENCY</th>\n",
              "      <th>TIME</th>\n",
              "      <th>Value</th>\n",
              "      <th>Flag Codes</th>\n",
              "    </tr>\n",
              "  </thead>\n",
              "  <tbody>\n",
              "    <tr>\n",
              "      <th>0</th>\n",
              "      <td>SVN</td>\n",
              "      <td>ROADACCID</td>\n",
              "      <td>DEATH</td>\n",
              "      <td>NBR</td>\n",
              "      <td>A</td>\n",
              "      <td>1970</td>\n",
              "      <td>620.0</td>\n",
              "      <td>NaN</td>\n",
              "    </tr>\n",
              "    <tr>\n",
              "      <th>1</th>\n",
              "      <td>SVN</td>\n",
              "      <td>ROADACCID</td>\n",
              "      <td>DEATH</td>\n",
              "      <td>NBR</td>\n",
              "      <td>A</td>\n",
              "      <td>1971</td>\n",
              "      <td>644.0</td>\n",
              "      <td>NaN</td>\n",
              "    </tr>\n",
              "    <tr>\n",
              "      <th>2</th>\n",
              "      <td>SVN</td>\n",
              "      <td>ROADACCID</td>\n",
              "      <td>DEATH</td>\n",
              "      <td>NBR</td>\n",
              "      <td>A</td>\n",
              "      <td>1972</td>\n",
              "      <td>625.0</td>\n",
              "      <td>NaN</td>\n",
              "    </tr>\n",
              "    <tr>\n",
              "      <th>3</th>\n",
              "      <td>SVN</td>\n",
              "      <td>ROADACCID</td>\n",
              "      <td>DEATH</td>\n",
              "      <td>NBR</td>\n",
              "      <td>A</td>\n",
              "      <td>1973</td>\n",
              "      <td>701.0</td>\n",
              "      <td>NaN</td>\n",
              "    </tr>\n",
              "    <tr>\n",
              "      <th>4</th>\n",
              "      <td>SVN</td>\n",
              "      <td>ROADACCID</td>\n",
              "      <td>DEATH</td>\n",
              "      <td>NBR</td>\n",
              "      <td>A</td>\n",
              "      <td>1974</td>\n",
              "      <td>557.0</td>\n",
              "      <td>NaN</td>\n",
              "    </tr>\n",
              "    <tr>\n",
              "      <th>...</th>\n",
              "      <td>...</td>\n",
              "      <td>...</td>\n",
              "      <td>...</td>\n",
              "      <td>...</td>\n",
              "      <td>...</td>\n",
              "      <td>...</td>\n",
              "      <td>...</td>\n",
              "      <td>...</td>\n",
              "    </tr>\n",
              "    <tr>\n",
              "      <th>8924</th>\n",
              "      <td>CHL</td>\n",
              "      <td>ROADACCID</td>\n",
              "      <td>DEATH</td>\n",
              "      <td>NBR</td>\n",
              "      <td>A</td>\n",
              "      <td>2014</td>\n",
              "      <td>2116.4</td>\n",
              "      <td>NaN</td>\n",
              "    </tr>\n",
              "    <tr>\n",
              "      <th>8925</th>\n",
              "      <td>CHL</td>\n",
              "      <td>ROADACCID</td>\n",
              "      <td>DEATH</td>\n",
              "      <td>NBR</td>\n",
              "      <td>A</td>\n",
              "      <td>2015</td>\n",
              "      <td>2135.9</td>\n",
              "      <td>NaN</td>\n",
              "    </tr>\n",
              "    <tr>\n",
              "      <th>8926</th>\n",
              "      <td>CHL</td>\n",
              "      <td>ROADACCID</td>\n",
              "      <td>DEATH</td>\n",
              "      <td>NBR</td>\n",
              "      <td>A</td>\n",
              "      <td>2016</td>\n",
              "      <td>2177.5</td>\n",
              "      <td>NaN</td>\n",
              "    </tr>\n",
              "    <tr>\n",
              "      <th>8927</th>\n",
              "      <td>CHL</td>\n",
              "      <td>ROADACCID</td>\n",
              "      <td>DEATH</td>\n",
              "      <td>NBR</td>\n",
              "      <td>A</td>\n",
              "      <td>2017</td>\n",
              "      <td>1925.3</td>\n",
              "      <td>NaN</td>\n",
              "    </tr>\n",
              "    <tr>\n",
              "      <th>8928</th>\n",
              "      <td>CHL</td>\n",
              "      <td>ROADACCID</td>\n",
              "      <td>DEATH</td>\n",
              "      <td>NBR</td>\n",
              "      <td>A</td>\n",
              "      <td>2018</td>\n",
              "      <td>1955.2</td>\n",
              "      <td>NaN</td>\n",
              "    </tr>\n",
              "  </tbody>\n",
              "</table>\n",
              "<p>4403 rows × 8 columns</p>\n",
              "</div>"
            ],
            "text/plain": [
              "     LOCATION  INDICATOR SUBJECT MEASURE FREQUENCY  TIME   Value Flag Codes\n",
              "0         SVN  ROADACCID   DEATH     NBR         A  1970   620.0        NaN\n",
              "1         SVN  ROADACCID   DEATH     NBR         A  1971   644.0        NaN\n",
              "2         SVN  ROADACCID   DEATH     NBR         A  1972   625.0        NaN\n",
              "3         SVN  ROADACCID   DEATH     NBR         A  1973   701.0        NaN\n",
              "4         SVN  ROADACCID   DEATH     NBR         A  1974   557.0        NaN\n",
              "...       ...        ...     ...     ...       ...   ...     ...        ...\n",
              "8924      CHL  ROADACCID   DEATH     NBR         A  2014  2116.4        NaN\n",
              "8925      CHL  ROADACCID   DEATH     NBR         A  2015  2135.9        NaN\n",
              "8926      CHL  ROADACCID   DEATH     NBR         A  2016  2177.5        NaN\n",
              "8927      CHL  ROADACCID   DEATH     NBR         A  2017  1925.3        NaN\n",
              "8928      CHL  ROADACCID   DEATH     NBR         A  2018  1955.2        NaN\n",
              "\n",
              "[4403 rows x 8 columns]"
            ]
          },
          "metadata": {
            "tags": []
          },
          "execution_count": 120
        }
      ]
    },
    {
      "cell_type": "code",
      "metadata": {
        "id": "ozvp8n6Mh07a",
        "colab_type": "code",
        "colab": {
          "base_uri": "https://localhost:8080/",
          "height": 265
        },
        "outputId": "445c0719-0053-42f8-8942-5c6158916fbe"
      },
      "source": [
        "car_accidents_death['TIME'].hist()\n",
        "plane_crash_total_fatalities['year'].hist()\n",
        "plt.show()"
      ],
      "execution_count": 182,
      "outputs": [
        {
          "output_type": "display_data",
          "data": {
            "image/png": "[encoded data removed]",
            "text/plain": [
              "<Figure size 432x288 with 1 Axes>"
            ]
          },
          "metadata": {
            "tags": [],
            "needs_background": "light"
          }
        }
      ]
    },
    {
      "cell_type": "code",
      "metadata": {
        "id": "1fU95m8vnDHf",
        "colab_type": "code",
        "colab": {
          "base_uri": "https://localhost:8080/",
          "height": 195
        },
        "outputId": "b12ddc45-aef6-4db8-c855-a46eb144398d"
      },
      "source": [
        "car_accidents_death = car_accidents[car_accidents['SUBJECT'] == 'DEATH']\n",
        "car_accidents_death.head().sort_values('TIME')"
      ],
      "execution_count": 141,
      "outputs": [
        {
          "output_type": "execute_result",
          "data": {
            "text/html": [
              "<div>\n",
              "<style scoped>\n",
              "    .dataframe tbody tr th:only-of-type {\n",
              "        vertical-align: middle;\n",
              "    }\n",
              "\n",
              "    .dataframe tbody tr th {\n",
              "        vertical-align: top;\n",
              "    }\n",
              "\n",
              "    .dataframe thead th {\n",
              "        text-align: right;\n",
              "    }\n",
              "</style>\n",
              "<table border=\"1\" class=\"dataframe\">\n",
              "  <thead>\n",
              "    <tr style=\"text-align: right;\">\n",
              "      <th></th>\n",
              "      <th>LOCATION</th>\n",
              "      <th>INDICATOR</th>\n",
              "      <th>SUBJECT</th>\n",
              "      <th>MEASURE</th>\n",
              "      <th>FREQUENCY</th>\n",
              "      <th>TIME</th>\n",
              "      <th>Value</th>\n",
              "      <th>Flag Codes</th>\n",
              "    </tr>\n",
              "  </thead>\n",
              "  <tbody>\n",
              "    <tr>\n",
              "      <th>0</th>\n",
              "      <td>SVN</td>\n",
              "      <td>ROADACCID</td>\n",
              "      <td>DEATH</td>\n",
              "      <td>NBR</td>\n",
              "      <td>A</td>\n",
              "      <td>1970</td>\n",
              "      <td>620.0</td>\n",
              "      <td>NaN</td>\n",
              "    </tr>\n",
              "    <tr>\n",
              "      <th>1</th>\n",
              "      <td>SVN</td>\n",
              "      <td>ROADACCID</td>\n",
              "      <td>DEATH</td>\n",
              "      <td>NBR</td>\n",
              "      <td>A</td>\n",
              "      <td>1971</td>\n",
              "      <td>644.0</td>\n",
              "      <td>NaN</td>\n",
              "    </tr>\n",
              "    <tr>\n",
              "      <th>2</th>\n",
              "      <td>SVN</td>\n",
              "      <td>ROADACCID</td>\n",
              "      <td>DEATH</td>\n",
              "      <td>NBR</td>\n",
              "      <td>A</td>\n",
              "      <td>1972</td>\n",
              "      <td>625.0</td>\n",
              "      <td>NaN</td>\n",
              "    </tr>\n",
              "    <tr>\n",
              "      <th>3</th>\n",
              "      <td>SVN</td>\n",
              "      <td>ROADACCID</td>\n",
              "      <td>DEATH</td>\n",
              "      <td>NBR</td>\n",
              "      <td>A</td>\n",
              "      <td>1973</td>\n",
              "      <td>701.0</td>\n",
              "      <td>NaN</td>\n",
              "    </tr>\n",
              "    <tr>\n",
              "      <th>4</th>\n",
              "      <td>SVN</td>\n",
              "      <td>ROADACCID</td>\n",
              "      <td>DEATH</td>\n",
              "      <td>NBR</td>\n",
              "      <td>A</td>\n",
              "      <td>1974</td>\n",
              "      <td>557.0</td>\n",
              "      <td>NaN</td>\n",
              "    </tr>\n",
              "  </tbody>\n",
              "</table>\n",
              "</div>"
            ],
            "text/plain": [
              "  LOCATION  INDICATOR SUBJECT MEASURE FREQUENCY  TIME  Value Flag Codes\n",
              "0      SVN  ROADACCID   DEATH     NBR         A  1970  620.0        NaN\n",
              "1      SVN  ROADACCID   DEATH     NBR         A  1971  644.0        NaN\n",
              "2      SVN  ROADACCID   DEATH     NBR         A  1972  625.0        NaN\n",
              "3      SVN  ROADACCID   DEATH     NBR         A  1973  701.0        NaN\n",
              "4      SVN  ROADACCID   DEATH     NBR         A  1974  557.0        NaN"
            ]
          },
          "metadata": {
            "tags": []
          },
          "execution_count": 141
        }
      ]
    },
    {
      "cell_type": "code",
      "metadata": {
        "id": "EKjsh_VGsB-o",
        "colab_type": "code",
        "colab": {
          "base_uri": "https://localhost:8080/",
          "height": 297
        },
        "outputId": "73a7ec72-aa99-4428-d26f-b3099aae87d6"
      },
      "source": [
        "car_accidents_death.plot.scatter('TIME','Value')"
      ],
      "execution_count": 143,
      "outputs": [
        {
          "output_type": "execute_result",
          "data": {
            "text/plain": [
              "<matplotlib.axes._subplots.AxesSubplot at 0x7f69f93e72e8>"
            ]
          },
          "metadata": {
            "tags": []
          },
          "execution_count": 143
        },
        {
          "output_type": "display_data",
          "data": {
            "image/png": "[encoded data removed]",
            "text/plain": [
              "<Figure size 432x288 with 1 Axes>"
            ]
          },
          "metadata": {
            "tags": [],
            "needs_background": "light"
          }
        }
      ]
    },
    {
      "cell_type": "code",
      "metadata": {
        "id": "1VGzAq3r7HmY",
        "colab_type": "code",
        "colab": {
          "base_uri": "https://localhost:8080/",
          "height": 265
        },
        "outputId": "d9e06e48-5c9e-4a79-b6b6-bd363307d6da"
      },
      "source": [
        "fig, ax = plt.subplots()\n",
        "ax.bar(x=car_accidents_death['TIME'], height=car_accidents_death['Value'])\n",
        "plt.show() #Values = death per 1M habitants. "
      ],
      "execution_count": 151,
      "outputs": [
        {
          "output_type": "display_data",
          "data": {
            "image/png": "[encoded data removed]",
            "text/plain": [
              "<Figure size 432x288 with 1 Axes>"
            ]
          },
          "metadata": {
            "tags": [],
            "needs_background": "light"
          }
        }
      ]
    },
    {
      "cell_type": "code",
      "metadata": {
        "id": "WL_X9DWUh257",
        "colab_type": "code",
        "colab": {
          "base_uri": "https://localhost:8080/",
          "height": 175
        },
        "outputId": "895e47dd-ffe2-482a-dd33-8e19886ae11c"
      },
      "source": [
        "car_accidents.isnull().sum()"
      ],
      "execution_count": 134,
      "outputs": [
        {
          "output_type": "execute_result",
          "data": {
            "text/plain": [
              "LOCATION         0\n",
              "INDICATOR        0\n",
              "SUBJECT          0\n",
              "MEASURE          0\n",
              "FREQUENCY        0\n",
              "TIME             0\n",
              "Value            1\n",
              "Flag Codes    8737\n",
              "dtype: int64"
            ]
          },
          "metadata": {
            "tags": []
          },
          "execution_count": 134
        }
      ]
    },
    {
      "cell_type": "code",
      "metadata": {
        "id": "dKMA2kBM9qEZ",
        "colab_type": "code",
        "colab": {
          "base_uri": "https://localhost:8080/",
          "height": 34
        },
        "outputId": "6c5aafdb-18e0-4f78-ac72-21383fe6239c"
      },
      "source": [
        "total_death_car = car_accidents_death['Value'].sum()\n",
        "total_car_accidents  = car_accidents['Value'].sum()\n",
        "total_death_car / total_car_accidents"
      ],
      "execution_count": 155,
      "outputs": [
        {
          "output_type": "execute_result",
          "data": {
            "text/plain": [
              "0.02497675807275644"
            ]
          },
          "metadata": {
            "tags": []
          },
          "execution_count": 155
        }
      ]
    },
    {
      "cell_type": "code",
      "metadata": {
        "id": "FPItNH70PWEg",
        "colab_type": "code",
        "colab": {
          "base_uri": "https://localhost:8080/",
          "height": 35
        },
        "outputId": "54db54b1-ce5a-4522-b01c-fc2f25acfdbd"
      },
      "source": [
        "jcar_year = np.array([car_accidents_death['TIME']])\n",
        "jcar_year"
      ],
      "execution_count": null,
      "outputs": [
        {
          "output_type": "execute_result",
          "data": {
            "text/plain": [
              "array([[1970, 1971, 1972, ..., 2016, 2017, 2018]])"
            ]
          },
          "metadata": {
            "tags": []
          },
          "execution_count": 39
        }
      ]
    },
    {
      "cell_type": "code",
      "metadata": {
        "id": "c8pPFJnk4Uht",
        "colab_type": "code",
        "colab": {
          "base_uri": "https://localhost:8080/",
          "height": 173
        },
        "outputId": "32ad4fe2-0fe0-48a6-dceb-6f032a8cdf0d"
      },
      "source": [
        "car_accidents.dtypes"
      ],
      "execution_count": null,
      "outputs": [
        {
          "output_type": "execute_result",
          "data": {
            "text/plain": [
              "LOCATION       object\n",
              "INDICATOR      object\n",
              "SUBJECT        object\n",
              "MEASURE        object\n",
              "FREQUENCY      object\n",
              "TIME            int64\n",
              "Value         float64\n",
              "Flag Codes     object\n",
              "dtype: object"
            ]
          },
          "metadata": {
            "tags": []
          },
          "execution_count": 10
        }
      ]
    },
    {
      "cell_type": "code",
      "metadata": {
        "id": "TPkquUEXIkiH",
        "colab_type": "code",
        "colab": {
          "base_uri": "https://localhost:8080/",
          "height": 34
        },
        "outputId": "11466d7c-000a-4da8-b6f0-56a37d0b9d26"
      },
      "source": [
        "stats.ttest_ind(car_accidents_death['Value'],plane_crash_1970_2017['Fatalities'],nan_policy='omit')"
      ],
      "execution_count": 166,
      "outputs": [
        {
          "output_type": "execute_result",
          "data": {
            "text/plain": [
              "Ttest_indResult(statistic=12.02814186379866, pvalue=5.6327784282833145e-33)"
            ]
          },
          "metadata": {
            "tags": []
          },
          "execution_count": 166
        }
      ]
    },
    {
      "cell_type": "code",
      "metadata": {
        "id": "HV286KGoI0es",
        "colab_type": "code",
        "colab": {
          "base_uri": "https://localhost:8080/",
          "height": 52
        },
        "outputId": "f74ad807-5d15-434b-89f0-6889671f5477"
      },
      "source": [
        "print(car_accidents_death['Value'].sum())\n",
        "print(plane_crash_1970_2017['Fatalities'].sum())"
      ],
      "execution_count": 170,
      "outputs": [
        {
          "output_type": "stream",
          "text": [
            "12424822.30881528\n",
            "58107.0\n"
          ],
          "name": "stdout"
        }
      ]
    },
    {
      "cell_type": "code",
      "metadata": {
        "id": "GBCrzM4KJjDh",
        "colab_type": "code",
        "colab": {
          "base_uri": "https://localhost:8080/",
          "height": 265
        },
        "outputId": "61a4ffa5-e2e1-4577-94a1-f81d75cab6e5"
      },
      "source": [
        "fig, ax = plt.subplots()\n",
        "ax.bar(x=car_accidents_death['TIME'], height=car_accidents_death['Value'],width=1,)\n",
        "ax.bar(x=plane_crash_1970_2017['year'],height=plane_crash_1970_2017['Fatalities'],width=.8)\n",
        "\n",
        "plt.show()"
      ],
      "execution_count": 178,
      "outputs": [
        {
          "output_type": "display_data",
          "data": {
            "image/png": "[encoded data removed]",
            "text/plain": [
              "<Figure size 432x288 with 1 Axes>"
            ]
          },
          "metadata": {
            "tags": [],
            "needs_background": "light"
          }
        }
      ]
    },
    {
      "cell_type": "code",
      "metadata": {
        "id": "kzoRYL1nDKlj",
        "colab_type": "code",
        "colab": {
          "base_uri": "https://localhost:8080/",
          "height": 34
        },
        "outputId": "43675d05-e6d9-442b-f589-27d262629fdd"
      },
      "source": [
        "car_accidents['Value'].mean()"
      ],
      "execution_count": 156,
      "outputs": [
        {
          "output_type": "execute_result",
          "data": {
            "text/plain": [
              "55426.7816388652"
            ]
          },
          "metadata": {
            "tags": []
          },
          "execution_count": 156
        }
      ]
    },
    {
      "cell_type": "code",
      "metadata": {
        "id": "DqhUfubzaTGg",
        "colab_type": "code",
        "colab": {
          "base_uri": "https://localhost:8080/",
          "height": 402
        },
        "outputId": "3f54ca1c-ff89-45bc-926d-0b2b123558bc"
      },
      "source": [
        "condition = car_accidents['SUBJECT'] == 'DEATH'\n",
        "car_accidents[condition]"
      ],
      "execution_count": null,
      "outputs": [
        {
          "output_type": "execute_result",
          "data": {
            "text/html": [
              "<div>\n",
              "<style scoped>\n",
              "    .dataframe tbody tr th:only-of-type {\n",
              "        vertical-align: middle;\n",
              "    }\n",
              "\n",
              "    .dataframe tbody tr th {\n",
              "        vertical-align: top;\n",
              "    }\n",
              "\n",
              "    .dataframe thead th {\n",
              "        text-align: right;\n",
              "    }\n",
              "</style>\n",
              "<table border=\"1\" class=\"dataframe\">\n",
              "  <thead>\n",
              "    <tr style=\"text-align: right;\">\n",
              "      <th></th>\n",
              "      <th>LOCATION</th>\n",
              "      <th>INDICATOR</th>\n",
              "      <th>SUBJECT</th>\n",
              "      <th>MEASURE</th>\n",
              "      <th>FREQUENCY</th>\n",
              "      <th>TIME</th>\n",
              "      <th>Value</th>\n",
              "      <th>Flag Codes</th>\n",
              "    </tr>\n",
              "  </thead>\n",
              "  <tbody>\n",
              "    <tr>\n",
              "      <th>0</th>\n",
              "      <td>SVN</td>\n",
              "      <td>ROADACCID</td>\n",
              "      <td>DEATH</td>\n",
              "      <td>NBR</td>\n",
              "      <td>A</td>\n",
              "      <td>1970</td>\n",
              "      <td>620.0</td>\n",
              "      <td>NaN</td>\n",
              "    </tr>\n",
              "    <tr>\n",
              "      <th>1</th>\n",
              "      <td>SVN</td>\n",
              "      <td>ROADACCID</td>\n",
              "      <td>DEATH</td>\n",
              "      <td>NBR</td>\n",
              "      <td>A</td>\n",
              "      <td>1971</td>\n",
              "      <td>644.0</td>\n",
              "      <td>NaN</td>\n",
              "    </tr>\n",
              "    <tr>\n",
              "      <th>2</th>\n",
              "      <td>SVN</td>\n",
              "      <td>ROADACCID</td>\n",
              "      <td>DEATH</td>\n",
              "      <td>NBR</td>\n",
              "      <td>A</td>\n",
              "      <td>1972</td>\n",
              "      <td>625.0</td>\n",
              "      <td>NaN</td>\n",
              "    </tr>\n",
              "    <tr>\n",
              "      <th>3</th>\n",
              "      <td>SVN</td>\n",
              "      <td>ROADACCID</td>\n",
              "      <td>DEATH</td>\n",
              "      <td>NBR</td>\n",
              "      <td>A</td>\n",
              "      <td>1973</td>\n",
              "      <td>701.0</td>\n",
              "      <td>NaN</td>\n",
              "    </tr>\n",
              "    <tr>\n",
              "      <th>4</th>\n",
              "      <td>SVN</td>\n",
              "      <td>ROADACCID</td>\n",
              "      <td>DEATH</td>\n",
              "      <td>NBR</td>\n",
              "      <td>A</td>\n",
              "      <td>1974</td>\n",
              "      <td>557.0</td>\n",
              "      <td>NaN</td>\n",
              "    </tr>\n",
              "    <tr>\n",
              "      <th>...</th>\n",
              "      <td>...</td>\n",
              "      <td>...</td>\n",
              "      <td>...</td>\n",
              "      <td>...</td>\n",
              "      <td>...</td>\n",
              "      <td>...</td>\n",
              "      <td>...</td>\n",
              "      <td>...</td>\n",
              "    </tr>\n",
              "    <tr>\n",
              "      <th>8924</th>\n",
              "      <td>CHL</td>\n",
              "      <td>ROADACCID</td>\n",
              "      <td>DEATH</td>\n",
              "      <td>NBR</td>\n",
              "      <td>A</td>\n",
              "      <td>2014</td>\n",
              "      <td>2116.4</td>\n",
              "      <td>NaN</td>\n",
              "    </tr>\n",
              "    <tr>\n",
              "      <th>8925</th>\n",
              "      <td>CHL</td>\n",
              "      <td>ROADACCID</td>\n",
              "      <td>DEATH</td>\n",
              "      <td>NBR</td>\n",
              "      <td>A</td>\n",
              "      <td>2015</td>\n",
              "      <td>2135.9</td>\n",
              "      <td>NaN</td>\n",
              "    </tr>\n",
              "    <tr>\n",
              "      <th>8926</th>\n",
              "      <td>CHL</td>\n",
              "      <td>ROADACCID</td>\n",
              "      <td>DEATH</td>\n",
              "      <td>NBR</td>\n",
              "      <td>A</td>\n",
              "      <td>2016</td>\n",
              "      <td>2177.5</td>\n",
              "      <td>NaN</td>\n",
              "    </tr>\n",
              "    <tr>\n",
              "      <th>8927</th>\n",
              "      <td>CHL</td>\n",
              "      <td>ROADACCID</td>\n",
              "      <td>DEATH</td>\n",
              "      <td>NBR</td>\n",
              "      <td>A</td>\n",
              "      <td>2017</td>\n",
              "      <td>1925.3</td>\n",
              "      <td>NaN</td>\n",
              "    </tr>\n",
              "    <tr>\n",
              "      <th>8928</th>\n",
              "      <td>CHL</td>\n",
              "      <td>ROADACCID</td>\n",
              "      <td>DEATH</td>\n",
              "      <td>NBR</td>\n",
              "      <td>A</td>\n",
              "      <td>2018</td>\n",
              "      <td>1955.2</td>\n",
              "      <td>NaN</td>\n",
              "    </tr>\n",
              "  </tbody>\n",
              "</table>\n",
              "<p>4403 rows × 8 columns</p>\n",
              "</div>"
            ],
            "text/plain": [
              "     LOCATION  INDICATOR SUBJECT MEASURE FREQUENCY  TIME   Value Flag Codes\n",
              "0         SVN  ROADACCID   DEATH     NBR         A  1970   620.0        NaN\n",
              "1         SVN  ROADACCID   DEATH     NBR         A  1971   644.0        NaN\n",
              "2         SVN  ROADACCID   DEATH     NBR         A  1972   625.0        NaN\n",
              "3         SVN  ROADACCID   DEATH     NBR         A  1973   701.0        NaN\n",
              "4         SVN  ROADACCID   DEATH     NBR         A  1974   557.0        NaN\n",
              "...       ...        ...     ...     ...       ...   ...     ...        ...\n",
              "8924      CHL  ROADACCID   DEATH     NBR         A  2014  2116.4        NaN\n",
              "8925      CHL  ROADACCID   DEATH     NBR         A  2015  2135.9        NaN\n",
              "8926      CHL  ROADACCID   DEATH     NBR         A  2016  2177.5        NaN\n",
              "8927      CHL  ROADACCID   DEATH     NBR         A  2017  1925.3        NaN\n",
              "8928      CHL  ROADACCID   DEATH     NBR         A  2018  1955.2        NaN\n",
              "\n",
              "[4403 rows x 8 columns]"
            ]
          },
          "metadata": {
            "tags": []
          },
          "execution_count": 88
        }
      ]
    },
    {
      "cell_type": "code",
      "metadata": {
        "id": "jvtCa-VpbE7W",
        "colab_type": "code",
        "colab": {
          "base_uri": "https://localhost:8080/",
          "height": 202
        },
        "outputId": "e6c5e319-a4b7-474c-ad96-71f85d9f2e7b"
      },
      "source": [
        "car_accidents_death.head()"
      ],
      "execution_count": null,
      "outputs": [
        {
          "output_type": "execute_result",
          "data": {
            "text/html": [
              "<div>\n",
              "<style scoped>\n",
              "    .dataframe tbody tr th:only-of-type {\n",
              "        vertical-align: middle;\n",
              "    }\n",
              "\n",
              "    .dataframe tbody tr th {\n",
              "        vertical-align: top;\n",
              "    }\n",
              "\n",
              "    .dataframe thead th {\n",
              "        text-align: right;\n",
              "    }\n",
              "</style>\n",
              "<table border=\"1\" class=\"dataframe\">\n",
              "  <thead>\n",
              "    <tr style=\"text-align: right;\">\n",
              "      <th></th>\n",
              "      <th>LOCATION</th>\n",
              "      <th>INDICATOR</th>\n",
              "      <th>SUBJECT</th>\n",
              "      <th>MEASURE</th>\n",
              "      <th>FREQUENCY</th>\n",
              "      <th>TIME</th>\n",
              "      <th>Value</th>\n",
              "      <th>Flag Codes</th>\n",
              "    </tr>\n",
              "  </thead>\n",
              "  <tbody>\n",
              "    <tr>\n",
              "      <th>0</th>\n",
              "      <td>SVN</td>\n",
              "      <td>ROADACCID</td>\n",
              "      <td>1</td>\n",
              "      <td>NBR</td>\n",
              "      <td>A</td>\n",
              "      <td>1970</td>\n",
              "      <td>620.0</td>\n",
              "      <td>NaN</td>\n",
              "    </tr>\n",
              "    <tr>\n",
              "      <th>1</th>\n",
              "      <td>SVN</td>\n",
              "      <td>ROADACCID</td>\n",
              "      <td>1</td>\n",
              "      <td>NBR</td>\n",
              "      <td>A</td>\n",
              "      <td>1971</td>\n",
              "      <td>644.0</td>\n",
              "      <td>NaN</td>\n",
              "    </tr>\n",
              "    <tr>\n",
              "      <th>2</th>\n",
              "      <td>SVN</td>\n",
              "      <td>ROADACCID</td>\n",
              "      <td>1</td>\n",
              "      <td>NBR</td>\n",
              "      <td>A</td>\n",
              "      <td>1972</td>\n",
              "      <td>625.0</td>\n",
              "      <td>NaN</td>\n",
              "    </tr>\n",
              "    <tr>\n",
              "      <th>3</th>\n",
              "      <td>SVN</td>\n",
              "      <td>ROADACCID</td>\n",
              "      <td>1</td>\n",
              "      <td>NBR</td>\n",
              "      <td>A</td>\n",
              "      <td>1973</td>\n",
              "      <td>701.0</td>\n",
              "      <td>NaN</td>\n",
              "    </tr>\n",
              "    <tr>\n",
              "      <th>4</th>\n",
              "      <td>SVN</td>\n",
              "      <td>ROADACCID</td>\n",
              "      <td>1</td>\n",
              "      <td>NBR</td>\n",
              "      <td>A</td>\n",
              "      <td>1974</td>\n",
              "      <td>557.0</td>\n",
              "      <td>NaN</td>\n",
              "    </tr>\n",
              "  </tbody>\n",
              "</table>\n",
              "</div>"
            ],
            "text/plain": [
              "  LOCATION  INDICATOR  SUBJECT MEASURE FREQUENCY  TIME  Value Flag Codes\n",
              "0      SVN  ROADACCID        1     NBR         A  1970  620.0        NaN\n",
              "1      SVN  ROADACCID        1     NBR         A  1971  644.0        NaN\n",
              "2      SVN  ROADACCID        1     NBR         A  1972  625.0        NaN\n",
              "3      SVN  ROADACCID        1     NBR         A  1973  701.0        NaN\n",
              "4      SVN  ROADACCID        1     NBR         A  1974  557.0        NaN"
            ]
          },
          "metadata": {
            "tags": []
          },
          "execution_count": 52
        }
      ]
    },
    {
      "cell_type": "code",
      "metadata": {
        "id": "oZk32i50uD6f",
        "colab_type": "code",
        "colab": {
          "base_uri": "https://localhost:8080/",
          "height": 202
        },
        "outputId": "4bb75214-1d9f-4ba3-c7a1-53c185aeafe2"
      },
      "source": [
        "car_accidents_death.head()"
      ],
      "execution_count": null,
      "outputs": [
        {
          "output_type": "execute_result",
          "data": {
            "text/html": [
              "<div>\n",
              "<style scoped>\n",
              "    .dataframe tbody tr th:only-of-type {\n",
              "        vertical-align: middle;\n",
              "    }\n",
              "\n",
              "    .dataframe tbody tr th {\n",
              "        vertical-align: top;\n",
              "    }\n",
              "\n",
              "    .dataframe thead th {\n",
              "        text-align: right;\n",
              "    }\n",
              "</style>\n",
              "<table border=\"1\" class=\"dataframe\">\n",
              "  <thead>\n",
              "    <tr style=\"text-align: right;\">\n",
              "      <th></th>\n",
              "      <th>LOCATION</th>\n",
              "      <th>INDICATOR</th>\n",
              "      <th>SUBJECT</th>\n",
              "      <th>MEASURE</th>\n",
              "      <th>FREQUENCY</th>\n",
              "      <th>TIME</th>\n",
              "      <th>Value</th>\n",
              "      <th>Flag Codes</th>\n",
              "    </tr>\n",
              "  </thead>\n",
              "  <tbody>\n",
              "    <tr>\n",
              "      <th>0</th>\n",
              "      <td>SVN</td>\n",
              "      <td>ROADACCID</td>\n",
              "      <td>1</td>\n",
              "      <td>NBR</td>\n",
              "      <td>A</td>\n",
              "      <td>1970</td>\n",
              "      <td>620.0</td>\n",
              "      <td>NaN</td>\n",
              "    </tr>\n",
              "    <tr>\n",
              "      <th>1</th>\n",
              "      <td>SVN</td>\n",
              "      <td>ROADACCID</td>\n",
              "      <td>1</td>\n",
              "      <td>NBR</td>\n",
              "      <td>A</td>\n",
              "      <td>1971</td>\n",
              "      <td>644.0</td>\n",
              "      <td>NaN</td>\n",
              "    </tr>\n",
              "    <tr>\n",
              "      <th>2</th>\n",
              "      <td>SVN</td>\n",
              "      <td>ROADACCID</td>\n",
              "      <td>1</td>\n",
              "      <td>NBR</td>\n",
              "      <td>A</td>\n",
              "      <td>1972</td>\n",
              "      <td>625.0</td>\n",
              "      <td>NaN</td>\n",
              "    </tr>\n",
              "    <tr>\n",
              "      <th>3</th>\n",
              "      <td>SVN</td>\n",
              "      <td>ROADACCID</td>\n",
              "      <td>1</td>\n",
              "      <td>NBR</td>\n",
              "      <td>A</td>\n",
              "      <td>1973</td>\n",
              "      <td>701.0</td>\n",
              "      <td>NaN</td>\n",
              "    </tr>\n",
              "    <tr>\n",
              "      <th>4</th>\n",
              "      <td>SVN</td>\n",
              "      <td>ROADACCID</td>\n",
              "      <td>1</td>\n",
              "      <td>NBR</td>\n",
              "      <td>A</td>\n",
              "      <td>1974</td>\n",
              "      <td>557.0</td>\n",
              "      <td>NaN</td>\n",
              "    </tr>\n",
              "  </tbody>\n",
              "</table>\n",
              "</div>"
            ],
            "text/plain": [
              "  LOCATION  INDICATOR  SUBJECT MEASURE FREQUENCY  TIME  Value Flag Codes\n",
              "0      SVN  ROADACCID        1     NBR         A  1970  620.0        NaN\n",
              "1      SVN  ROADACCID        1     NBR         A  1971  644.0        NaN\n",
              "2      SVN  ROADACCID        1     NBR         A  1972  625.0        NaN\n",
              "3      SVN  ROADACCID        1     NBR         A  1973  701.0        NaN\n",
              "4      SVN  ROADACCID        1     NBR         A  1974  557.0        NaN"
            ]
          },
          "metadata": {
            "tags": []
          },
          "execution_count": 69
        }
      ]
    }
  ]
}